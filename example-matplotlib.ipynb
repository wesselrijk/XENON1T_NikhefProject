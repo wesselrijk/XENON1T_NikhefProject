{
 "cells": [
  {
   "cell_type": "markdown",
   "metadata": {},
   "source": [
    "# Example Jupyter Notebook with Matplotlib\n",
    "\n",
    "Patrick Decowski, April 2020 [put your name and date]\n",
    "\n",
    "*Abstract* <br>\n",
    "This abstract should clearly summarize what this Notebook is about. In this case, we give a simple example of a Jupyter Notebook and plot two figure that show you how to include matplotlib in your Notebook.\n",
    "\n",
    "## Introduction\n",
    "This is a simple Jupyter Notebook that shows you how to embed Python code, use matplotlib for plots and intersperse it with text describing what is done. "
   ]
  },
  {
   "cell_type": "markdown",
   "metadata": {},
   "source": [
    "### Not familiar with Jupyter?\n",
    "In case you are not familiar with Juypyter, it is a web-based application that allows you to do ineractive analysis. You write (e.g. Python) code in Cells that can be excuted right away by pressing shift+return. Note the 'menu items' in the browser above: you can edit various cells. The 'Kernel' menu item is important when something doesn't work - use \"Restart\" or one of the other options.\n",
    "\n",
    "See for general info <a href=\"https://jupyter-notebook.readthedocs.io/en/stable/notebook.html\">Jupyter Documentation</a>.\n",
    "\n",
    "Below are some cells that can be executed cell by cell (with shift+return) or in one go by selecting 'Run all'. "
   ]
  },
  {
   "cell_type": "code",
   "execution_count": 1,
   "metadata": {},
   "outputs": [],
   "source": [
    "# Import your modules just like you would in python3\n",
    "import numpy as np\n",
    "import matplotlib.pyplot as plt"
   ]
  },
  {
   "cell_type": "code",
   "execution_count": 2,
   "metadata": {},
   "outputs": [],
   "source": [
    "# Initialize the random number generator\n",
    "np.random.seed(1337)\n",
    "\n",
    "# Size of dataset\n",
    "size = 100\n",
    "x = np.random.randn(size)\n",
    "y = x + np.random.randn(size)*1.1"
   ]
  },
  {
   "cell_type": "code",
   "execution_count": 3,
   "metadata": {},
   "outputs": [
    {
     "data": {
      "text/plain": [
       "Text(0,0.5,'y')"
      ]
     },
     "execution_count": 3,
     "metadata": {},
     "output_type": "execute_result"
    },
    {
     "data": {
      "image/png": "[encoded data removed]",
      "text/plain": [
       "<matplotlib.figure.Figure at 0x7fc5946d3198>"
      ]
     },
     "metadata": {},
     "output_type": "display_data"
    }
   ],
   "source": [
    "# The next line is some Matplotlib magic to make it appear in this Jupyter notebook, note the %\n",
    "%matplotlib inline\n",
    "plt.figure()\n",
    "plt.plot(x,y,'go')\n",
    "plt.xlabel('x'); plt.ylabel('y')"
   ]
  },
  {
   "cell_type": "markdown",
   "metadata": {},
   "source": [
    "The Jupyter Notebook can be interspersed with text, comments etc. to discuss the analysis, plots or other things. This is done in a markdown cell (go to Cell->Cell Type->Markdown, the default Cell Type in Jupyter is Code). \n",
    "\n",
    "You can use Latex, for example formulas on one line: $e^{i\\pi}$ (surround by \\$ .. \\$)\n",
    "and on their own line: \n",
    "$$ V = \\frac{3}{4}\\pi R^3 $$\n",
    "(surround the equation by \\$\\$ .. \\$\\$ on a separate line)\n",
    "\n",
    "I can then simply continue with where we left off in the next cell: "
   ]
  },
  {
   "cell_type": "code",
   "execution_count": 4,
   "metadata": {},
   "outputs": [],
   "source": [
    "y2 = -x - np.random.randn(size)*0.3"
   ]
  },
  {
   "cell_type": "code",
   "execution_count": 5,
   "metadata": {},
   "outputs": [
    {
     "data": {
      "text/plain": [
       "[<matplotlib.lines.Line2D at 0x7faf41787898>]"
      ]
     },
     "execution_count": 5,
     "metadata": {},
     "output_type": "execute_result"
    },
    {
     "data": {
      "image/png": "[encoded data removed]",
      "text/plain": [
       "<matplotlib.figure.Figure at 0x7faf5c04f048>"
      ]
     },
     "metadata": {},
     "output_type": "display_data"
    }
   ],
   "source": [
    "plt.plot(x, y2,'r+')"
   ]
  },
  {
   "cell_type": "markdown",
   "metadata": {},
   "source": [
    "# Conclusion\n",
    "Jupyter notebooks are powerful to mix your analysis code and text documentation in one document. This has become the de facto standard in many experiments for presenting analysis.  "
   ]
  }
 ],
 "metadata": {
  "kernelspec": {
   "display_name": "Python 3",
   "language": "python",
   "name": "python3"
  },
  "language_info": {
   "codemirror_mode": {
    "name": "ipython",
    "version": 3
   },
   "file_extension": ".py",
   "mimetype": "text/x-python",
   "name": "python",
   "nbconvert_exporter": "python",
   "pygments_lexer": "ipython3",
   "version": "3.6.9"
  }
 },
 "nbformat": 4,
 "nbformat_minor": 2
}
