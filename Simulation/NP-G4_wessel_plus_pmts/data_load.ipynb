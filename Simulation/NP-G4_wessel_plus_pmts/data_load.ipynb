{
 "cells": [
  {
   "cell_type": "code",
   "execution_count": 5,
   "metadata": {},
   "outputs": [
    {
     "name": "stdout",
     "output_type": "stream",
     "text": [
      "[ 59 246 130 174  57 148 174 182 181 208 218  80 174 247 141  85 203 189\n",
      " 182 166 167 206 170 157 205 193 131  38 183 198 234 241 245 243 145 219\n",
      " 230 231  99  39 246 246 164 154 243 221 191 180 202 166 133 244 243 214\n",
      " 224 173 243  31 161 161 216 235 127 212 201 169 169 132 159 159]\n"
     ]
    }
   ],
   "source": [
    "import numpy as np\n",
    "\n",
    "data = np.loadtxt(\"data.dat\", dtype=int, delimiter=\";\", usecols=1)\n",
    "print(data)"
   ]
  },
  {
   "cell_type": "code",
   "execution_count": null,
   "metadata": {},
   "outputs": [],
   "source": []
  }
 ],
 "metadata": {
  "kernelspec": {
   "display_name": "Python 3",
   "language": "python",
   "name": "python3"
  },
  "language_info": {
   "codemirror_mode": {
    "name": "ipython",
    "version": 3
   },
   "file_extension": ".py",
   "mimetype": "text/x-python",
   "name": "python",
   "nbconvert_exporter": "python",
   "pygments_lexer": "ipython3",
   "version": "3.6.9"
  }
 },
 "nbformat": 4,
 "nbformat_minor": 2
}
