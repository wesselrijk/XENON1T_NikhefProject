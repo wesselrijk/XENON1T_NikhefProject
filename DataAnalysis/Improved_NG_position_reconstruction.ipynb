{
 "cells": [
  {
   "cell_type": "markdown",
   "metadata": {},
   "source": [
    "# Position reconstruction 2.0\n",
    "\n",
    "(author: B.Paetsch, updated: 30.06.2020)\n",
    "\n",
    "For a more precise interaction position reconstruction, the average radial position of multiple PMTs seeing a significant signal is taken for the x- and y-position. Therefore the channellist in the waveform reader is moified, so that we now get a list with each PMT and its lowest (gain corrected) adc value that contributes to the recorded signal. The channellist is sorted by adc value (starting with the lowest), and according PMTs to the first three entries are taken for the position reconstruction. Here we look at all signals, but since only the top PMTs are taken into account, mostly or exlusively S2 signals are amongst the maximal ones.\n",
    "\n",
    "(Waveform reader and position function are modified)"
   ]
  },
  {
   "cell_type": "code",
   "execution_count": 26,
   "metadata": {},
   "outputs": [],
   "source": [
    "import Zip\n",
    "import math\n",
    "import numpy as np\n",
    "import matplotlib as mpl\n",
    "import matplotlib.pyplot as plt\n",
    "import matplotlib.patches as patches\n",
    "import time, sys, pickle, math\n",
    "from IPython.display import clear_output\n",
    "\n",
    "# Channels in the detector\n",
    "det_ch = { 'tpc': list(range(0, 247+1)), 'veto': list(range(248, 253+1)), \n",
    "          'sum_wv': [254], 'busy_on': [255], 'busy_off': [256],\n",
    "          'hev_on': [257], 'hev_off': [258], 'muon_veto_trigger': [259], } \n",
    "n_channels = 260\n",
    "\n",
    "# for reading the ini file\n",
    "from configparser import ConfigParser, ExtendedInterpolation\n",
    "config = ConfigParser(inline_comment_prefixes='#', interpolation=ExtendedInterpolation(), strict=True)\n",
    "config.optionsxform = str\n",
    "config.read('xenon1t.ini')\n",
    "\n",
    "ch_top = eval(config['DEFAULT']['channels_top'])\n",
    "gain = eval(config['DEFAULT']['gains'])\n",
    "\n",
    "# Initial parameters\n",
    "baseline_ = 16384. * np.ones(n_channels)\n",
    "std_ = 2.3 * np.ones(n_channels)\n",
    "\n",
    "# The data files\n",
    "NG = Zip.ReadZipped(\"/data/nikhefproject/data/xenon1t/NG\") # Neutron data\n",
    "Rn220 = Zip.ReadZipped(\"/data/nikhefproject/data/xenon1t/Rn220\") # Rn-220 data"
   ]
  },
  {
   "cell_type": "code",
   "execution_count": 27,
   "metadata": {},
   "outputs": [],
   "source": [
    "#progress bar for running code\n",
    "def update_progress(progress):\n",
    "    bar_length = 20\n",
    "    if isinstance(progress, int):\n",
    "        progress = float(progress)\n",
    "    if not isinstance(progress, float):\n",
    "        progress = 0\n",
    "    if progress < 0:\n",
    "        progress = 0\n",
    "    if progress >= 1:\n",
    "        progress = 1\n",
    "\n",
    "    block = int(round(bar_length * progress))\n",
    "\n",
    "    clear_output(wait = True)\n",
    "    text = \"Progress: [{0}] {1:.1f}%\".format( \"#\" * block + \"-\" * (bar_length - block), progress * 100)\n",
    "    print(text)"
   ]
  },
  {
   "cell_type": "code",
   "execution_count": 28,
   "metadata": {},
   "outputs": [],
   "source": [
    "\"\"\"take gains into account for each adc value\"\"\"\n",
    "\"\"\"only look at top PMTs (for position reconstruction)\"\"\"\n",
    "\"\"\"the channellist is modified!!!\"\"\"\n",
    "def myFunc(e):\n",
    "    return e[\"adc_corrected\"]\n",
    "\n",
    "# A waveform reader function\n",
    "def Waveform(raw,eventnr):\n",
    "    event = raw.get_single_event(eventnr)\n",
    "                                \n",
    "    #The variables that check if a channel is the minimum channel\n",
    "    adcmin = 16382\n",
    "    minchannel = 0\n",
    "    \n",
    "    #A list that holds all the channels with significant pulses \n",
    "    channellist = []\n",
    "    \n",
    "    #Create the datapoint arrays\n",
    "    n = 350000  \n",
    "    ts = np.ones((n_channels, n), dtype=np.int16)\n",
    "    ts = ts * 16382 \n",
    "    t = np.linspace(0, n, n) \n",
    "    counter = False\n",
    "    first = True\n",
    "    \n",
    "    #Loop over all pulses in the event\n",
    "    for p in event.pulses:\n",
    "        ch = p.channel\n",
    "        if ch in ch_top:  #only top PMTs\n",
    "            i = np.zeros(n_channels, dtype = int)\n",
    "            for adc in p.raw_data:\n",
    "                if gain[ch]!=0:\n",
    "                    adc_corrected = 16382 - (16382 - adc)/gain[ch]*4911399 #corrected by relative gain\n",
    "                else:\n",
    "                    adc_corrected = 0 #np.inf #if we put 0 here, PMTs with 0 gain are taken into account for minchannel\n",
    "                #print(\"not corrected: \", adc, \"corrected: \",adc_corrected)\n",
    "                try:\n",
    "                #Add the ADC value to the appropriate channel array\n",
    "                    #ts[ch][p.left + i[ch]] = adc #(not corrected)\n",
    "                    ts[ch][p.left + i[ch]] = adc_corrected\n",
    "                    i[ch] = i[ch] + 1\n",
    "                except IndexError:\n",
    "                        counter = True\n",
    "                \"\"\"This part is modified!!!\"\"\"        \n",
    "                #Append all significant main channels to the channellist with their adc_corrected value\n",
    "                if adc_corrected < 15000 and ch in det_ch['tpc']:   \n",
    "                    #if it isn't in list, append\n",
    "                    if first or len(list(filter(lambda value:value[\"channel\"]==ch,channellist)))==0:\n",
    "                        entry = {'channel': ch, 'adc_corrected': adc_corrected}\n",
    "                        channellist.append(entry)\n",
    "                        first = False\n",
    "                    #if it is already in list, check whether adc value is now lower, if so take as new value    \n",
    "                    else:                      \n",
    "                        ind = channellist.index(list(filter(lambda value:value[\"channel\"]==ch,channellist))[0])\n",
    "                        if channellist[ind]['adc_corrected']>adc_corrected:\n",
    "                            channellist[ind]['adc_corrected']=adc_corrected\n",
    "                \n",
    "                #Check which channel is the minimum channel\n",
    "                if adc_corrected!=0 and adc_corrected < adcmin:\n",
    "                    adcmin = adc_corrected\n",
    "                    minchannel = ch\n",
    "                if ch in channellist:\n",
    "                    print(ch)\n",
    "                \n",
    "    #Sort by highest adc value\n",
    "    channellist.sort(key= myFunc) #[\"adc_corrected\"])\n",
    "    return t, ts, channellist, minchannel, counter"
   ]
  },
  {
   "cell_type": "code",
   "execution_count": 29,
   "metadata": {},
   "outputs": [],
   "source": [
    "#from Joey Staa\n",
    "def Peaks(pulse, printall):\n",
    "    \n",
    "    # The standard variables\n",
    "    q = 0\n",
    "    left_t, right_t = 0, 0\n",
    "    baseline = 16382.\n",
    "    std = 2.3\n",
    "    ch = pulse.channel\n",
    "    wave = pulse.raw_data\n",
    "    \n",
    "    # The index for the minimum\n",
    "    minindex = len(wave)\n",
    "    \n",
    "    # Variables for the average, the ratio and the slope\n",
    "    avfound = 0\n",
    "    samplelist = [wave[0]]\n",
    "    ratio = 1\n",
    "    slope = 0\n",
    "    sw = 0\n",
    "\n",
    "    s = np.std(wave)\n",
    "    delta = baseline - np.min(wave)\n",
    "    if min(s, delta) > 5*std:\n",
    "        for samples in enumerate(wave):\n",
    "            base_sub = samples[1] - baseline\n",
    "            if abs(base_sub) > 5*std:\n",
    "                q = q + base_sub\n",
    "            \n",
    "            # Compute the average of the previous samples\n",
    "            av = np.average(samplelist)\n",
    "            \n",
    "            # left_t is assigned when a significant deviation from the average is recorded\n",
    "            if abs(samples[1] - av) > 20 and left_t == 0:\n",
    "                left_t = samples[0]\n",
    "                \n",
    "                # The sample value at left_t is kept for the slope calculation\n",
    "                leftsample = samplelist[-1]\n",
    "                if printall:\n",
    "                    print(\"left_t here\")\n",
    "                avfound = av\n",
    "             \n",
    "            # Find the index for the minimum\n",
    "            if samples[1] == np.min(wave):\n",
    "                minindex = samples[0]\n",
    "\n",
    "            # right_t is assigned in a similar way as left_t\n",
    "            if abs(samples[1] - avfound) < 20 and samples[0] > minindex and right_t == 0: \n",
    "                right_t = samples[0]\n",
    "                if printall:\n",
    "                    print(\"right_t here\")\n",
    "                \n",
    "            # Add the current sample to the sample list\n",
    "            samplelist.append(samples[1])\n",
    "            \n",
    "            # A printing section in case the raw data needs to be analysed\n",
    "            if printall:\n",
    "                print(samples)\n",
    "                print(\"Average:\", av)\n",
    "                if left_t == 0:\n",
    "                    print(\"Average difference:\", abs(samples[1] - av))\n",
    "                else:\n",
    "                    print(\"Average difference:\", abs(samples[1] - avfound))\n",
    "                print()\n",
    "        \n",
    "        # Calculate the ratio and the slope\n",
    "        ratio = np.min(wave)/int(avfound)\n",
    "        delta_x = minindex - left_t\n",
    "        if delta_x != 0:\n",
    "            slope = (np.min(wave) - leftsample)/delta_x\n",
    "        \n",
    "    else:\n",
    "        baseline = np.average(wave)\n",
    "        std = s\n",
    "    width = right_t - left_t\n",
    "    if width != 0:\n",
    "        sw = slope/width\n",
    "        if -q/width < 3*std or ratio >= 0.99:\n",
    "            q = 0\n",
    "    return (ch, q, width, pulse.left+left_t, sw)"
   ]
  },
  {
   "cell_type": "code",
   "execution_count": 30,
   "metadata": {},
   "outputs": [],
   "source": [
    "#getting the already classified S1 and S2 signals stored in a list (Zhuoran Feng)\n",
    "#first 10000 events\n",
    "with open ('NG_data_new.p','rb') as fp:\n",
    "#with open ('Rn220_data_new.p','rb') as fp:    \n",
    "    data = pickle.load(fp)"
   ]
  },
  {
   "cell_type": "code",
   "execution_count": 31,
   "metadata": {},
   "outputs": [
    {
     "name": "stdout",
     "output_type": "stream",
     "text": [
      "{'event': 0, 's1': 110469.0, 's2': 1311152.0, 's1_position': 100055, 's2_position': 171748}\n",
      "7490\n",
      "0\n"
     ]
    }
   ],
   "source": [
    "#checking whether it works\n",
    "print(data[0])\n",
    "print(len(data))\n",
    "print(data[0]['event'])"
   ]
  },
  {
   "cell_type": "code",
   "execution_count": 32,
   "metadata": {},
   "outputs": [
    {
     "data": {
      "text/plain": [
       "[{'event': 0,\n",
       "  's1': 110469.0,\n",
       "  's1_position': 100055,\n",
       "  's2': 1311152.0,\n",
       "  's2_position': 171748}]"
      ]
     },
     "execution_count": 32,
     "metadata": {},
     "output_type": "execute_result"
    }
   ],
   "source": [
    "list(filter(lambda value:value[\"event\"]==0,data))"
   ]
  },
  {
   "cell_type": "code",
   "execution_count": 33,
   "metadata": {},
   "outputs": [
    {
     "data": {
      "text/plain": [
       "117"
      ]
     },
     "execution_count": 33,
     "metadata": {},
     "output_type": "execute_result"
    }
   ],
   "source": [
    "(t, ts, channellist, minchannel, counter) = Waveform(NG,3)\n",
    "channellist[0]['channel']"
   ]
  },
  {
   "cell_type": "code",
   "execution_count": 34,
   "metadata": {},
   "outputs": [
    {
     "data": {
      "text/plain": [
       "{'adc_corrected': -17031.808009891269, 'channel': 103}"
      ]
     },
     "execution_count": 34,
     "metadata": {},
     "output_type": "execute_result"
    }
   ],
   "source": [
    "channellist[1]\n"
   ]
  },
  {
   "cell_type": "code",
   "execution_count": 40,
   "metadata": {},
   "outputs": [],
   "source": [
    "#you need the Waveform reader, Peaks-function and the classified S1 and S2 signal list for running position-fct.\n",
    "def position(raw,data):\n",
    "    \"\"\" Finding the x,y and z position for an event, and storing the coordinates in a list.\n",
    "    Only channel 254 is used.\"\"\"\n",
    "    \n",
    "    position_list = []\n",
    "    s2fors1 = 0\n",
    "    c = 0\n",
    "    z = 0\n",
    "    drift_velocity = 1.44 # mm/us, see Jelle p.78 or 1708.07051\n",
    "    length_data = len(data)\n",
    "    \n",
    "    for event in data:\n",
    "        if event['s1_position']<event['s2_position']:\n",
    "            #z-coordinate\n",
    "            #difference between two datapoints in waveform: 10ns (=1e-2 us)\n",
    "            drift = 1e-2*(event['s2_position']-event['s1_position'])\n",
    "            z = drift * drift_velocity #[mm]\n",
    "        \n",
    "            \"\"\"This part is modified!!!\"\"\"\n",
    "    #x-,y-coordinate (we take the average radial position of three PMTs (strongest signal))\n",
    "            (t, ts, channellist, minchannel, counter) = Waveform(raw,event['event'])\n",
    "            if counter == True:\n",
    "                c += 1\n",
    "            pmt = eval(config['DEFAULT']['pmts'])\n",
    "            \n",
    "            #the x and y coordinates of the three PMTs with the strongest signal\n",
    "            if len(channellist)>2:\n",
    "                x1 = pmt[channellist[0]['channel']]['position']['x']\n",
    "                x2 = pmt[channellist[1]['channel']]['position']['x']\n",
    "                x3 = pmt[channellist[2]['channel']]['position']['x']\n",
    "                x_avg = (x1+x2+x3)/3\n",
    "            \n",
    "                y1 = pmt[channellist[0]['channel']]['position']['y']\n",
    "                y2 = pmt[channellist[1]['channel']]['position']['y']\n",
    "                y3 = pmt[channellist[2]['channel']]['position']['y']\n",
    "                y_avg = (y1+y2+y3)/3\n",
    "                \n",
    "            if len(channellist)==2:\n",
    "                x1 = pmt[channellist[0]['channel']]['position']['x']\n",
    "                x2 = pmt[channellist[1]['channel']]['position']['x']\n",
    "                x_avg = (x1+x2)/2\n",
    "            \n",
    "                y1 = pmt[channellist[0]['channel']]['position']['y']\n",
    "                y2 = pmt[channellist[1]['channel']]['position']['y']\n",
    "                y_avg = (y1+y2)/2\n",
    "                \n",
    "            if len(channellist)==1:\n",
    "                x_avg = pmt[channellist[0]['channel']]['position']['x']\n",
    "                y_avg = pmt[channellist[0]['channel']]['position']['y']\n",
    "            \n",
    "            \n",
    "            \n",
    "            entry = { 'eventnumber': event['event'], 'x': x_avg, 'y': y_avg, \n",
    "                     'z': z }\n",
    "            position_list.append(entry)\n",
    "            length = len(position_list)\n",
    "        \n",
    "            if (length/length_data)%0.1==0: #every 10% update the progress bar\n",
    "                #print(length)\n",
    "                update_progress(length/length_data) \n",
    "            #if length==10:\n",
    "            #   break\n",
    "        else:\n",
    "            s2fors1 += 1     \n",
    "    \n",
    "    print(\"S2 signal before S1 signal: \", s2fors1)        \n",
    "    return position_list, c #c: counter, how many events we skipped in Waveform-fct. due to a size>350000 "
   ]
  },
  {
   "cell_type": "code",
   "execution_count": 42,
   "metadata": {},
   "outputs": [
    {
     "name": "stdout",
     "output_type": "stream",
     "text": [
      "Progress: [################----] 80.0%\n",
      "S2 signal before S1 signal:  23\n",
      "position_list execution runtime:  117178.93357944489\n"
     ]
    }
   ],
   "source": [
    "#create the position_list\n",
    "start_time = time.time()\n",
    "\n",
    "position_list, counter = position(NG,data)\n",
    "#position_list, counter = position(Rn220, data)\n",
    "\n",
    "print(\"position_list execution runtime: \", time.time()-start_time) #seconds"
   ]
  },
  {
   "cell_type": "code",
   "execution_count": 43,
   "metadata": {},
   "outputs": [
    {
     "name": "stdout",
     "output_type": "stream",
     "text": [
      "729\n",
      "7467\n",
      "{'eventnumber': 0, 'x': -4.065332483152305, 'y': 3.804525032699299, 'z': 1032.3792}\n"
     ]
    }
   ],
   "source": [
    "print(counter)\n",
    "\"\"\"NG: event 23 has a length of 350000 + 185342 = 535342 \n",
    "For more information on the waveforms that are broader than 350000 and are skipped in the x-y-position \n",
    "determination, have a look at the 'ample_size.ipynb' notebook. \"\"\"\n",
    "\n",
    "print(len(position_list))\n",
    "print(position_list[0])"
   ]
  },
  {
   "cell_type": "code",
   "execution_count": 44,
   "metadata": {},
   "outputs": [
    {
     "name": "stdout",
     "output_type": "stream",
     "text": [
      "-4.065332483152305\n"
     ]
    }
   ],
   "source": [
    "print(position_list[0]['x'])"
   ]
  },
  {
   "cell_type": "code",
   "execution_count": 45,
   "metadata": {},
   "outputs": [
    {
     "data": {
      "text/plain": [
       "Text(0,0.5,'S2')"
      ]
     },
     "execution_count": 45,
     "metadata": {},
     "output_type": "execute_result"
    },
    {
     "data": {
      "image/png": "[encoded data removed]",
      "text/plain": [
       "<matplotlib.figure.Figure at 0x7f49e878f5c0>"
      ]
     },
     "metadata": {},
     "output_type": "display_data"
    }
   ],
   "source": [
    "#plotting the drift time\n",
    "s1 = []\n",
    "s2 = []\n",
    "drift = []\n",
    "for event in data:\n",
    "    if event['s1_position']<event['s2_position']: \n",
    "        drift.append(1e-2*(event['s2_position']-event['s1_position']))\n",
    "        s1.append(event['s1'])\n",
    "        s2.append(event['s2'])\n",
    "fig, ax = plt.subplots()\n",
    "ax.hist2d(drift,s2, bins=(100,100), range=((-50,800),(0,3.5*1e7)), norm=mpl.colors.LogNorm())\n",
    "ax.set_xlabel(\"drift[us]\")\n",
    "ax.set_ylabel(\"S2\")\n",
    "#fname = 'NG_drift10000.png'\n",
    "#fig.savefig(fname, dpi = (200))"
   ]
  },
  {
   "cell_type": "code",
   "execution_count": 46,
   "metadata": {},
   "outputs": [
    {
     "name": "stdout",
     "output_type": "stream",
     "text": [
      "7467\n",
      "7467\n"
     ]
    }
   ],
   "source": [
    "#plotting the x-, y- and z-coordinate\n",
    "x = np.array([])\n",
    "y = np.array([])\n",
    "z = np.array([])\n",
    "for position in position_list:\n",
    "    #print(position)\n",
    "    x = np.append(x,position['x'])\n",
    "    y = np.append(y,position['y'])\n",
    "    z = np.append(z,position['z'])\n",
    "print(len(x))\n",
    "print(len(s2))"
   ]
  },
  {
   "cell_type": "code",
   "execution_count": 63,
   "metadata": {},
   "outputs": [
    {
     "data": {
      "image/png": "[encoded data removed]",
      "text/plain": [
       "<matplotlib.figure.Figure at 0x7f49e89be7b8>"
      ]
     },
     "metadata": {},
     "output_type": "display_data"
    }
   ],
   "source": [
    "fig, ax = plt.subplots(2, 1, sharex='col')\n",
    "ax[0].hist2d(x,s2, bins=(100,100), norm=mpl.colors.LogNorm())\n",
    "ax[1].hist2d(y,s2, bins=(100,100), norm=mpl.colors.LogNorm())\n",
    "ax[0].set_xlabel(\"x[cm]\")\n",
    "ax[1].set_xlabel(\"y[cm]\")\n",
    "ax[0].set_ylabel(\"S2\")\n",
    "ax[1].set_ylabel(\"S2\")\n",
    "ax[0].set_title(\"NG Improved x- and y-position\")\n",
    "fname = 'NG_Improved_x-y-position.png'\n",
    "fig.savefig(fname, dpi = (200))"
   ]
  },
  {
   "cell_type": "code",
   "execution_count": 64,
   "metadata": {},
   "outputs": [
    {
     "data": {
      "image/png": "[encoded data removed]",
      "text/plain": [
       "<matplotlib.figure.Figure at 0x7f49e830fcc0>"
      ]
     },
     "metadata": {},
     "output_type": "display_data"
    }
   ],
   "source": [
    "fig, ax = plt.subplots()\n",
    "ax.hist2d(z,s2, bins=(100,100), range=((-100,1200),(0,3.5*1e7)), norm=mpl.colors.LogNorm())\n",
    "ax.set_xlabel(\"z[mm]\")\n",
    "ax.set_ylabel(\"S2\")\n",
    "ax.set_title(\"NG z-position\")\n",
    "fname = 'NG_z-position10000.png'\n",
    "fig.savefig(fname, dpi = (200))"
   ]
  },
  {
   "cell_type": "code",
   "execution_count": 62,
   "metadata": {},
   "outputs": [
    {
     "data": {
      "image/png": "[encoded data removed]",
      "text/plain": [
       "<matplotlib.figure.Figure at 0x7f49e75c6860>"
      ]
     },
     "metadata": {},
     "output_type": "display_data"
    }
   ],
   "source": [
    "fig, ax = plt.subplots()\n",
    "ax.hist2d(x,y, bins=(60,60), norm=mpl.colors.LogNorm())\n",
    "ax.set_xlabel(\"x\")\n",
    "ax.set_ylabel(\"y\")\n",
    "ax.set_title(\"NG Improved hit pattern\")\n",
    "fname = 'NG_Improved_hitpattern.png'\n",
    "fig.savefig(fname, dpi = (200))"
   ]
  },
  {
   "cell_type": "code",
   "execution_count": 58,
   "metadata": {},
   "outputs": [
    {
     "data": {
      "image/png": "[encoded data removed]",
      "text/plain": [
       "<matplotlib.figure.Figure at 0x7f49e922b128>"
      ]
     },
     "metadata": {},
     "output_type": "display_data"
    }
   ],
   "source": [
    "from mpl_toolkits.mplot3d import Axes3D \n",
    "ax = plt.subplot(projection='3d')\n",
    "ax.scatter(x, y, -z)\n",
    "\n",
    "ax.set_xlabel('x')\n",
    "ax.set_ylabel('y')\n",
    "ax.set_zlabel('z')\n",
    "\n",
    "plt.show()\n"
   ]
  },
  {
   "cell_type": "markdown",
   "metadata": {},
   "source": [
    "# Outlook\n",
    "\n",
    "When comparing the position reconstruction with taking multiple PMTs into account instead of only one, we see in the x- and y-position plot that it indeed improved with this approach. We clearly see a shift of the interaction to one corner of the PMT for the neutron generator data set. That is the same behaviour that we saw earlier in the hit pattern of the interaction positions for the NG source (external source). \n",
    "\n",
    "Further improvement on the interaction position reconstruction can be achieved by weighted PMT position (according to their contribution to the total signal), and when taking more than max. 3 PMTs into account, or only PMTs in a certain range of the first one (this is probably the reason why we see these peaks in the Radon x- adn y-position plot: everytime we take the average of 3 PMTs that are not close together in one corner but spread over the area we get an average position close to the center)"
   ]
  }
 ],
 "metadata": {
  "kernelspec": {
   "display_name": "Python 3",
   "language": "python",
   "name": "python3"
  },
  "language_info": {
   "codemirror_mode": {
    "name": "ipython",
    "version": 3
   },
   "file_extension": ".py",
   "mimetype": "text/x-python",
   "name": "python",
   "nbconvert_exporter": "python",
   "pygments_lexer": "ipython3",
   "version": "3.6.9"
  }
 },
 "nbformat": 4,
 "nbformat_minor": 2
}
