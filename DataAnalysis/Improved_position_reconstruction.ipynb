{
 "cells": [
  {
   "cell_type": "markdown",
   "metadata": {},
   "source": [
    "# Position reconstruction 2.0\n",
    "\n",
    "(author: B.Paetsch, date: 26.06.2020)\n",
    "\n",
    "For a more precise interaction position reconstruction, the average of multiple PMTs seeing a significant signal is taken for the x- and y-position. Therefore the channellist in the waveform reader is moified, so that we now get a list with each PMT and its lowest adc value that contribute to the recorded signal. Here we look at all signals, but since only the top PMTs are taken into account, mostly or exlusivle S2 signals are under the maximal ones."
   ]
  },
  {
   "cell_type": "code",
   "execution_count": 23,
   "metadata": {},
   "outputs": [],
   "source": [
    "import Zip\n",
    "import math\n",
    "import numpy as np\n",
    "import matplotlib as mpl\n",
    "import matplotlib.pyplot as plt\n",
    "import matplotlib.patches as patches\n",
    "import time, sys, pickle, math\n",
    "from IPython.display import clear_output\n",
    "\n",
    "# Channels in the detector\n",
    "det_ch = { 'tpc': list(range(0, 247+1)), 'veto': list(range(248, 253+1)), \n",
    "          'sum_wv': [254], 'busy_on': [255], 'busy_off': [256],\n",
    "          'hev_on': [257], 'hev_off': [258], 'muon_veto_trigger': [259], } \n",
    "n_channels = 260\n",
    "\n",
    "# for reading the ini file\n",
    "from configparser import ConfigParser, ExtendedInterpolation\n",
    "config = ConfigParser(inline_comment_prefixes='#', interpolation=ExtendedInterpolation(), strict=True)\n",
    "config.optionsxform = str\n",
    "config.read('xenon1t.ini')\n",
    "\n",
    "ch_top = eval(config['DEFAULT']['channels_top'])\n",
    "gain = eval(config['DEFAULT']['gains'])\n",
    "\n",
    "# Initial parameters\n",
    "baseline_ = 16384. * np.ones(n_channels)\n",
    "std_ = 2.3 * np.ones(n_channels)\n",
    "\n",
    "# The data files\n",
    "NG = Zip.ReadZipped(\"/data/nikhefproject/data/xenon1t/NG\") # Neutron data\n",
    "Rn220 = Zip.ReadZipped(\"/data/nikhefproject/data/xenon1t/Rn220\") # Rn-220 data"
   ]
  },
  {
   "cell_type": "code",
   "execution_count": 35,
   "metadata": {},
   "outputs": [],
   "source": [
    "\"\"\"take gains into account for each adc value\"\"\"\n",
    "\"\"\"only look at top PMTs (for position reconstruction)\"\"\"\n",
    "\"\"\"the channellist is modified!!!\"\"\"\n",
    "def myFunc(e):\n",
    "    return e[\"adc_corrected\"]\n",
    "\n",
    "# A waveform reader function\n",
    "def Waveform(raw,eventnr):\n",
    "    event = raw.get_single_event(eventnr)\n",
    "                                \n",
    "    #The variables that check if a channel is the minimum channel\n",
    "    adcmin = 16382\n",
    "    minchannel = 0\n",
    "    \n",
    "    #A list that holds all the channels with significant pulses \n",
    "    channellist = []\n",
    "    \n",
    "    #Create the datapoint arrays\n",
    "    n = 350000  \n",
    "    ts = np.ones((n_channels, n), dtype=np.int16)\n",
    "    ts = ts * 16382 \n",
    "    t = np.linspace(0, n, n) \n",
    "    counter = False\n",
    "    first = True\n",
    "    \n",
    "    #Loop over all pulses in the event\n",
    "    for p in event.pulses:\n",
    "        ch = p.channel\n",
    "        if ch in ch_top:  #only top PMTs\n",
    "            i = np.zeros(n_channels, dtype = int)\n",
    "            for adc in p.raw_data:\n",
    "                if gain[ch]!=0:\n",
    "                    adc_corrected = 16382 - (16382 - adc)/gain[ch]*4911399 #corrected by relative gain\n",
    "                else:\n",
    "                    adc_corrected = 0 #np.inf #if we put 0 here, PMTs with 0 gain are taken into account for minchannel\n",
    "                #print(\"not corrected: \", adc, \"corrected: \",adc_corrected)\n",
    "                try:\n",
    "                #Add the ADC value to the appropriate channel array\n",
    "                    #ts[ch][p.left + i[ch]] = adc #(not corrected)\n",
    "                    ts[ch][p.left + i[ch]] = adc_corrected\n",
    "                    i[ch] = i[ch] + 1\n",
    "                except IndexError:\n",
    "                        counter = True\n",
    "                        \n",
    "                #Append all significant main channels to the list with their adc_corrected value\n",
    "                if adc_corrected < 15000 and ch in det_ch['tpc']:   \n",
    "                    #if it isn't in list, append\n",
    "                    if first or len(list(filter(lambda value:value[\"channel\"]==ch,channellist)))==0:\n",
    "                        entry = {'channel': ch, 'adc_corrected': adc_corrected}\n",
    "                        channellist.append(entry)\n",
    "                        first = False\n",
    "                    #if it is already in list, check whether adc value is now lower, if so take as new value    \n",
    "                    else:                      \n",
    "                        ind = channellist.index(list(filter(lambda value:value[\"channel\"]==ch,channellist))[0])\n",
    "                        if channellist[ind]['adc_corrected']>adc_corrected:\n",
    "                            channellist[ind]['adc_corrected']=adc_corrected\n",
    "                \n",
    "                #Check which channel is the minimum channel\n",
    "                if adc_corrected!=0 and adc_corrected < adcmin:\n",
    "                    adcmin = adc_corrected\n",
    "                    minchannel = ch\n",
    "                if ch in channellist:\n",
    "                    print(ch)\n",
    "                \n",
    "    #Sort by highest adc value\n",
    "    channellist.sort(key= myFunc) #[\"adc_corrected\"])\n",
    "    return t, ts, channellist, minchannel, counter"
   ]
  },
  {
   "cell_type": "code",
   "execution_count": 11,
   "metadata": {},
   "outputs": [],
   "source": [
    "(t, ts, channellist, minchannel, counter) = Waveform(NG,3)"
   ]
  },
  {
   "cell_type": "code",
   "execution_count": 12,
   "metadata": {},
   "outputs": [
    {
     "name": "stdout",
     "output_type": "stream",
     "text": [
      "117\n",
      "114\n"
     ]
    },
    {
     "data": {
      "text/plain": [
       "[{'adc_corrected': -20622.672772441278, 'channel': 117}]"
      ]
     },
     "execution_count": 12,
     "metadata": {},
     "output_type": "execute_result"
    }
   ],
   "source": [
    "print(minchannel)\n",
    "print(len(channellist))\n",
    "#print(channellist)\n",
    "list(filter(lambda value:value[\"channel\"]==minchannel,channellist))"
   ]
  },
  {
   "cell_type": "code",
   "execution_count": 13,
   "metadata": {},
   "outputs": [],
   "source": [
    "#adc_corrected, x, y, for each PMT for one event\n",
    "xhist = []\n",
    "yhist = []\n",
    "adchist = np.array([])\n",
    "for ch in ch_top:\n",
    "    pmt = eval(config['DEFAULT']['pmts'])\n",
    "    x = pmt[ch]['position']['x']\n",
    "    y = pmt[ch]['position']['y']\n",
    "    xhist.append(x)\n",
    "    yhist.append(y)\n",
    "    if len(list(filter(lambda value:value[\"channel\"]==ch,channellist)))==0:\n",
    "        adchist = np.append(adchist,0)\n",
    "    else:\n",
    "        newlist = list(filter(lambda value:value[\"channel\"]==ch,channellist))[0]\n",
    "        adchist = np.append(adchist,newlist['adc_corrected']) "
   ]
  },
  {
   "cell_type": "code",
   "execution_count": 14,
   "metadata": {},
   "outputs": [
    {
     "data": {
      "text/plain": [
       "Text(0,0.5,'y')"
      ]
     },
     "execution_count": 14,
     "metadata": {},
     "output_type": "execute_result"
    },
    {
     "data": {
      "image/png": "[encoded data removed]",
      "text/plain": [
       "<matplotlib.figure.Figure at 0x7f1e2f383b00>"
      ]
     },
     "metadata": {},
     "output_type": "display_data"
    }
   ],
   "source": [
    "fig, ax = plt.subplots()\n",
    "#plt.contourf(xhist,yhist,adchist)\n",
    "ax.hist2d(xhist,yhist, bins=(30,30), norm=mpl.colors.LogNorm())\n",
    "ax.set_xlabel(\"x\")\n",
    "ax.set_ylabel(\"y\")\n",
    "#fname = 'NG_drift10000.png'\n",
    "#fig.savefig(fname, dpi = (200))"
   ]
  },
  {
   "cell_type": "code",
   "execution_count": 34,
   "metadata": {},
   "outputs": [
    {
     "name": "stdout",
     "output_type": "stream",
     "text": [
      "<class 'numpy.float64'>\n"
     ]
    },
    {
     "ename": "TypeError",
     "evalue": "'int' object is not subscriptable",
     "output_type": "error",
     "traceback": [
      "\u001b[0;31m---------------------------------------------------------------------------\u001b[0m",
      "\u001b[0;31mTypeError\u001b[0m                                 Traceback (most recent call last)",
      "\u001b[0;32m<ipython-input-34-fe15d96d03a5>\u001b[0m in \u001b[0;36m<module>\u001b[0;34m()\u001b[0m\n\u001b[1;32m     15\u001b[0m     \u001b[0mx\u001b[0m \u001b[0;34m=\u001b[0m \u001b[0mpmt\u001b[0m\u001b[0;34m[\u001b[0m\u001b[0mch\u001b[0m\u001b[0;34m]\u001b[0m\u001b[0;34m[\u001b[0m\u001b[0;34m'position'\u001b[0m\u001b[0;34m]\u001b[0m\u001b[0;34m[\u001b[0m\u001b[0;34m'x'\u001b[0m\u001b[0;34m]\u001b[0m\u001b[0;34m\u001b[0m\u001b[0;34m\u001b[0m\u001b[0m\n\u001b[1;32m     16\u001b[0m     \u001b[0my\u001b[0m \u001b[0;34m=\u001b[0m \u001b[0mpmt\u001b[0m\u001b[0;34m[\u001b[0m\u001b[0mch\u001b[0m\u001b[0;34m]\u001b[0m\u001b[0;34m[\u001b[0m\u001b[0;34m'position'\u001b[0m\u001b[0;34m]\u001b[0m\u001b[0;34m[\u001b[0m\u001b[0;34m'y'\u001b[0m\u001b[0;34m]\u001b[0m\u001b[0;34m\u001b[0m\u001b[0;34m\u001b[0m\u001b[0m\n\u001b[0;32m---> 17\u001b[0;31m     \u001b[0mnewlist\u001b[0m\u001b[0;34m[\u001b[0m\u001b[0;34m'adc_corrected'\u001b[0m\u001b[0;34m]\u001b[0m\u001b[0;34m.\u001b[0m\u001b[0mastype\u001b[0m\u001b[0;34m(\u001b[0m\u001b[0mnp\u001b[0m\u001b[0;34m.\u001b[0m\u001b[0mint64\u001b[0m\u001b[0;34m)\u001b[0m\u001b[0;34m\u001b[0m\u001b[0;34m\u001b[0m\u001b[0m\n\u001b[0m\u001b[1;32m     18\u001b[0m     \u001b[0mprint\u001b[0m\u001b[0;34m(\u001b[0m\u001b[0mtype\u001b[0m\u001b[0;34m(\u001b[0m\u001b[0mnewlist\u001b[0m\u001b[0;34m[\u001b[0m\u001b[0;34m'adc_corrected'\u001b[0m\u001b[0;34m]\u001b[0m\u001b[0;34m)\u001b[0m\u001b[0;34m)\u001b[0m\u001b[0;34m\u001b[0m\u001b[0;34m\u001b[0m\u001b[0m\n\u001b[1;32m     19\u001b[0m     \u001b[0;31m#for i in np.linspace(0, newlist['adc_corrected'], num=5):# < newlist['adc_corrected']:\u001b[0m\u001b[0;34m\u001b[0m\u001b[0;34m\u001b[0m\u001b[0;34m\u001b[0m\u001b[0m\n",
      "\u001b[0;31mTypeError\u001b[0m: 'int' object is not subscriptable"
     ]
    }
   ],
   "source": [
    "#plotting x,y and adc as hist2d (surly not the best way)\n",
    "#adc_corrected, x, y, for each PMT for one event\n",
    "xhist = []\n",
    "yhist = []\n",
    "adchist = np.array([])\n",
    "pmt = eval(config['DEFAULT']['pmts'])\n",
    "\n",
    "for ch in ch_top:\n",
    "    if len(list(filter(lambda value:value[\"channel\"]==ch,channellist)))==0:\n",
    "        newlist = 0\n",
    "        adchist = np.append(adchist,0)\n",
    "    else:\n",
    "        newlist = list(filter(lambda value:value[\"channel\"]==ch,channellist))[0]\n",
    "        #adchist = np.append(adchist,newlist['adc_corrected']) \n",
    "    x = pmt[ch]['position']['x']\n",
    "    y = pmt[ch]['position']['y'] \n",
    "    newlist['adc_corrected'].astype(np.int64)\n",
    "    print(type(newlist['adc_corrected']))\n",
    "    #for i in np.linspace(0, newlist['adc_corrected'], num=5):# < newlist['adc_corrected']:\n",
    "    xhist.append([x for i in range(newlist['adc_corrected'])])\n",
    "    yhist.append([y for i in range(newlist['adc_corrected'])])\n"
   ]
  },
  {
   "cell_type": "code",
   "execution_count": null,
   "metadata": {},
   "outputs": [],
   "source": [
    "fig, ax = plt.subplots()    \n",
    "ax.hist2d(xhist,yhist, bins=(30,30), norm=mpl.colors.LogNorm())\n",
    "ax.set_xlabel(\"x\")\n",
    "ax.set_ylabel(\"y\")\n",
    "#fname = 'NG_scatterForOneEvent.png'\n",
    "#fig.savefig(fname, dpi = (200))"
   ]
  },
  {
   "cell_type": "code",
   "execution_count": 37,
   "metadata": {},
   "outputs": [
    {
     "data": {
      "image/png": "[encoded data removed]",
      "text/plain": [
       "<matplotlib.figure.Figure at 0x7f1e2e55f240>"
      ]
     },
     "metadata": {},
     "output_type": "display_data"
    }
   ],
   "source": [
    "#3d plot\n",
    "from mpl_toolkits.mplot3d import Axes3D \n",
    "ax = plt.subplot(projection='3d')\n",
    "ax.scatter(xhist, yhist, adchist)\n",
    "\n",
    "ax.set_xlabel('x')\n",
    "ax.set_ylabel('y')\n",
    "ax.set_zlabel('z')\n",
    "\n",
    "plt.show()\n",
    "fname = 'NG4_3dScatter.png'\n",
    "fig.savefig(fname, dpi = (200))"
   ]
  }
 ],
 "metadata": {
  "kernelspec": {
   "display_name": "Python 3",
   "language": "python",
   "name": "python3"
  },
  "language_info": {
   "codemirror_mode": {
    "name": "ipython",
    "version": 3
   },
   "file_extension": ".py",
   "mimetype": "text/x-python",
   "name": "python",
   "nbconvert_exporter": "python",
   "pygments_lexer": "ipython3",
   "version": "3.6.9"
  }
 },
 "nbformat": 4,
 "nbformat_minor": 2
}
