{
 "cells": [
  {
   "cell_type": "markdown",
   "metadata": {},
   "source": [
    "# S1 and S2 identification and analysis # \n",
    "Author: Marjolein Heidotting"
   ]
  },
  {
   "cell_type": "code",
   "execution_count": 16,
   "metadata": {},
   "outputs": [],
   "source": [
    "import matplotlib.pyplot as plt\n",
    "import numpy as np"
   ]
  },
  {
   "cell_type": "code",
   "execution_count": 17,
   "metadata": {},
   "outputs": [
    {
     "name": "stderr",
     "output_type": "stream",
     "text": [
      "/usr/lib/python3/dist-packages/numpy/lib/function_base.py:1110: RuntimeWarning: Mean of empty slice.\n",
      "  avg = a.mean(axis)\n",
      "/usr/lib/python3/dist-packages/numpy/core/_methods.py:80: RuntimeWarning: invalid value encountered in double_scalars\n",
      "  ret = ret.dtype.type(ret / rcount)\n"
     ]
    },
    {
     "name": "stdout",
     "output_type": "stream",
     "text": [
      "254 :  -54332.0 28 100055 |  0.960407805854\n",
      "254 :  -578029.0 466 122173 |  0.877574012643\n"
     ]
    },
    {
     "data": {
      "image/png": "[encoded data removed]",
      "text/plain": [
       "<matplotlib.figure.Figure at 0x7fc217d84550>"
      ]
     },
     "metadata": {},
     "output_type": "display_data"
    }
   ],
   "source": [
    "%run New_Peakfinder.ipynb"
   ]
  },
  {
   "cell_type": "code",
   "execution_count": 20,
   "metadata": {},
   "outputs": [
    {
     "name": "stdout",
     "output_type": "stream",
     "text": [
      "[0, 3, 4, 5, 6, 7, 8, 9, 11, 22, 25, 28, 29, 30, 32, 33, 35, 36, 37, 38, 39, 40, 41, 42, 43, 44, 45, 47, 50, 51, 52, 54, 56, 57, 59, 60, 63, 64, 66, 67, 68, 69, 70, 71, 74, 75, 77, 80, 81, 82, 83, 84, 85, 87, 89, 90, 91, 92, 93, 94, 95, 96, 97, 100, 101, 103, 104, 105, 106, 107, 108, 109, 110, 111, 112, 113, 114, 116, 119, 120, 121, 122, 123, 124, 125, 126, 127, 128, 129, 131, 132, 133, 136, 138, 140, 141, 142, 143, 144, 145, 146, 147, 149, 151, 153, 154, 155, 156, 157, 158, 159, 160, 161, 163, 164, 165, 166, 167, 168, 169, 170, 171, 172, 173, 174, 175, 176, 177, 179, 180, 181, 182, 184, 185, 186, 187, 188, 189, 191, 192, 193, 194, 195, 196, 197, 199, 200, 201, 202, 204, 205, 207, 208, 209, 210, 211, 212, 215, 216, 217, 218, 219, 220, 221, 222, 223, 224, 225, 226, 227, 228, 229, 230, 231, 232, 233, 235, 236, 237, 238, 240, 241, 242, 243, 245, 246, 247]\n"
     ]
    }
   ],
   "source": [
    "print(Waveform(6)[2])"
   ]
  },
  {
   "cell_type": "code",
   "execution_count": 13,
   "metadata": {},
   "outputs": [],
   "source": [
    "def width_finder(eventnum, boundary):\n",
    "    \"\"\"\n",
    "    Finding the widths of the peaks in a certain event\n",
    "    \n",
    "    @param eventnum: The number of the event\n",
    "    \n",
    "    @type widthlist: list\n",
    "    @param widthlist: contains the widths of the peaks in the given event\n",
    "    \"\"\"\n",
    "    \n",
    "    #setting\n",
    "    event = 0\n",
    "    returnlist = []\n",
    "    widthlist = []\n",
    "    \n",
    "    #Loop over all pulses in the event\n",
    "    for event in range(eventnum):\n",
    "        returnlist.append([event, [],[]])\n",
    "        event = NG.get_single_event(event)\n",
    "        \n",
    "        for p in event.pulses:\n",
    "            result = Peaks(p)\n",
    "            \n",
    "            \n",
    "            if result[2] != 0:\n",
    "                widthlist.append(result[2])\n",
    "                if result[2]<boundary:#and len(returnlist[-1][1]) == 0:\n",
    "                    returnlist[-1][1].append(result[2])\n",
    "                else:\n",
    "                    returnlist[-1][2].append(result[2])\n",
    "                \n",
    "                \n",
    "\n",
    "    return returnlist, widthlist\n",
    "\n",
    "#Try out for event 12\n",
    "\n",
    "#print(\"The widths of the peaks\",lists[1])\n",
    "#print(lists[2])\n",
    "\n"
   ]
  },
  {
   "cell_type": "code",
   "execution_count": 15,
   "metadata": {},
   "outputs": [
    {
     "name": "stderr",
     "output_type": "stream",
     "text": [
      "/usr/lib/python3/dist-packages/numpy/lib/function_base.py:1110: RuntimeWarning: Mean of empty slice.\n",
      "  avg = a.mean(axis)\n",
      "/usr/lib/python3/dist-packages/numpy/core/_methods.py:80: RuntimeWarning: invalid value encountered in double_scalars\n",
      "  ret = ret.dtype.type(ret / rcount)\n"
     ]
    }
   ],
   "source": [
    "#all widths for 1000 events with the boundary between s1 and s2 at 125\n",
    "masterlist = width_finder(50,125) "
   ]
  },
  {
   "cell_type": "code",
   "execution_count": 4,
   "metadata": {},
   "outputs": [],
   "source": [
    "def resort(boundary):\n",
    "    \"\"\"\n",
    "    Resorts s1 and s2 peaks according to the boundary\n",
    "    Does not currently behave the way i would like it to\n",
    "    \"\"\"\n",
    "    eventlist = masterlist[0]\n",
    "    \n",
    "    for event in eventlist:\n",
    "        for s1 in event[1]:\n",
    "            #print(s1)\n",
    "            if s1>boundary:\n",
    "                event[2].append(s1)\n",
    "                event[1].remove(s1)\n",
    "    \n",
    "        for s2 in event[2]:\n",
    "            if s2<boundary:\n",
    "                event[2].remove(s2)\n",
    "                event[1].append(s1)\n",
    "    \n",
    "    return eventlist\n",
    "\n",
    "eventlist = resort(200)\n"
   ]
  },
  {
   "cell_type": "code",
   "execution_count": 5,
   "metadata": {},
   "outputs": [
    {
     "data": {
      "text/plain": [
       "Text(0,0.5,'Entries')"
      ]
     },
     "execution_count": 5,
     "metadata": {},
     "output_type": "execute_result"
    },
    {
     "data": {
      "image/png": "[encoded data removed]",
      "text/plain": [
       "<matplotlib.figure.Figure at 0x7fc216b3ed68>"
      ]
     },
     "metadata": {},
     "output_type": "display_data"
    }
   ],
   "source": [
    "#Making a histogram of the widths of the peaks of the first 100 events\n",
    "\n",
    "hist = masterlist[1]\n",
    "n, bins, patches = plt.hist(hist, 200, range=(-0.5,1500.5))\n",
    "plt.xlabel('Peak width')\n",
    "plt.ylabel('Entries')"
   ]
  },
  {
   "cell_type": "markdown",
   "metadata": {},
   "source": [
    "Based on the previous histogram, we'll set the difference in widths of the S1 and S2 peak to 150"
   ]
  },
  {
   "cell_type": "code",
   "execution_count": 16,
   "metadata": {},
   "outputs": [
    {
     "data": {
      "image/png": "[encoded data removed]",
      "text/plain": [
       "<matplotlib.figure.Figure at 0x7f21d5565940>"
      ]
     },
     "metadata": {},
     "output_type": "display_data"
    }
   ],
   "source": [
    "#setting the number of events to loop over\n",
    "eventnum = 50\n",
    "\n",
    "#list of list of an event, s1list and s2list\n",
    "event = masterlist[0]\n",
    "\n",
    "\n",
    "s1list = []\n",
    "s2list = []\n",
    "\n",
    "#looping over all events and putting them in collective lists\n",
    "i=0\n",
    "while i<eventnum:\n",
    "    for s1 in event[i][1]:\n",
    "        for s2 in event[i][2]:\n",
    "            s1list.append(s1)\n",
    "            s2list.append(s2)\n",
    "    i+=1\n",
    "    \n",
    "#print(s1list)\n",
    "colors = (0,0,0)\n",
    "area = np.pi*3\n",
    "\n",
    "s1 = np.array(s1list)\n",
    "s2 = np.array(s2list)\n",
    "\n",
    "# Plot\n",
    "plt.hist2d(s2,s1, 75, cmin=2) #making the plot, leaving out empty bin\n",
    "plt.title('Correlation plot')\n",
    "plt.xlabel('S2')\n",
    "plt.ylabel('S1')\n",
    "plt.colorbar()\n",
    "plt.show()\n"
   ]
  },
  {
   "cell_type": "code",
   "execution_count": 140,
   "metadata": {},
   "outputs": [],
   "source": []
  },
  {
   "cell_type": "code",
   "execution_count": null,
   "metadata": {},
   "outputs": [],
   "source": []
  }
 ],
 "metadata": {
  "kernelspec": {
   "display_name": "Python 3",
   "language": "python",
   "name": "python3"
  },
  "language_info": {
   "codemirror_mode": {
    "name": "ipython",
    "version": 3
   },
   "file_extension": ".py",
   "mimetype": "text/x-python",
   "name": "python",
   "nbconvert_exporter": "python",
   "pygments_lexer": "ipython3",
   "version": "3.6.9"
  }
 },
 "nbformat": 4,
 "nbformat_minor": 2
}
