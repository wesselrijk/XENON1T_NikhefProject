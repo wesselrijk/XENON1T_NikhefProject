{
 "cells": [
  {
   "cell_type": "markdown",
   "metadata": {},
   "source": [
    "# Peakfinder version.0\n",
    "\n",
    "Original file name: **XENON1T_Peakfinder.ipynb**\n",
    "\n",
    "Author: Zhuoran Feng\n",
    "\n",
    "First committed: 10/06/2020\n",
    "\n",
    "This notebook is a very first peakfinder for our analysis. It's almost the same as the one for XAMS.\n",
    "Later we turn to Joey's peakfinder."
   ]
  },
  {
   "cell_type": "code",
   "execution_count": 1,
   "metadata": {},
   "outputs": [],
   "source": [
    "import Zip\n",
    "import numpy as np\n",
    "import matplotlib as mpl\n",
    "import matplotlib.pyplot as plt\n",
    "import matplotlib.patches as patches\n",
    "import time\n",
    "import math\n",
    "\n",
    "\n",
    "# Channels in the detector\n",
    "det_ch = { 'tpc': list(range(0, 247+1)), 'veto': list(range(248, 253+1)), \n",
    "          'sum_wv': [254], 'busy_on': [255], 'busy_off': [256],\n",
    "          'hev_on': [257], 'hev_off': [258], 'muon_veto_trigger': [259], } \n",
    "n_channels = 260\n",
    "\n",
    "# Initial parameters\n",
    "baseline_ = 16384. * np.ones(n_channels)\n",
    "std_ = 2.3 * np.ones(n_channels)\n",
    "\n",
    "# The data files\n",
    "NG = Zip.ReadZipped(\"/data/nikhefproject/data/xenon1t/NG\") # Neutron data\n",
    "Rn220 = Zip.ReadZipped(\"/data/nikhefproject/data/xenon1t/Rn220\") # Rn-220 data"
   ]
  },
  {
   "cell_type": "code",
   "execution_count": 2,
   "metadata": {},
   "outputs": [],
   "source": [
    "def process_waveform(pulse):\n",
    "    \"\"\"Very simple peakfinder. Returns a list of ch, pulse Q, width and start of pulse. \n",
    "    Q is in ADC counts and width and start of pulse are in sample counts relative to \n",
    "    start of event.\"\"\"\n",
    "    q, pe = 0, 0\n",
    "    left_t, right_t = 0, 0\n",
    "    ch = pulse.channel\n",
    "    wf = pulse.raw_data\n",
    "    \n",
    "    s = np.std(wf)\n",
    "    delta = baseline_[ch] - np.min(wf)\n",
    "    if min(s, delta) > 5*std_[ch]:\n",
    "        accumulating = False\n",
    "        first = True\n",
    "        for samples in enumerate(wf):\n",
    "            base_sub = samples[1]-baseline_[ch]\n",
    "            #print(samples, \" \", base_sub, \" \", std, \" \", q)\n",
    "            if abs(base_sub) > 5*std_[ch] and samples[1] < 0.95*baseline_[ch]:\n",
    "                q = q + base_sub\n",
    "                if not accumulating and first:\n",
    "                    left_t = samples[0]\n",
    "                    accumulating = True\n",
    "                    first = False\n",
    "            else:\n",
    "                if accumulating:\n",
    "                    right_t = samples[0]\n",
    "                    #accumulating = False\n",
    "    else:\n",
    "        baseline_[ch] = np.average(wf)\n",
    "        std_[ch] = s\n",
    "    width = right_t - left_t\n",
    "    if width != 0 and -q/width < 3*std_[ch]:\n",
    "        q = 0\n",
    "#    if width != 0:\n",
    "#        pe = q * 0.5/2**14 * 2 * 1e-9/(width * 1.6022e-19) * 2e-6 * -1\n",
    "    return (ch, q, width, pulse.left+left_t)"
   ]
  },
  {
   "cell_type": "code",
   "execution_count": 3,
   "metadata": {},
   "outputs": [
    {
     "name": "stdout",
     "output_type": "stream",
     "text": [
      "254 :  -6626.0 68 100057\n",
      "254 :  -456606.0 396 122277\n"
     ]
    }
   ],
   "source": [
    "%matplotlib inline\n",
    "event = NG.get_single_event(5)\n",
    "\n",
    "s1 = [0, 0]\n",
    "s2 = [0, 0]\n",
    "for p in event.pulses:\n",
    "    (ch, q, width, t0) = process_waveform(p)\n",
    "    if q < 0 and ch == 254:\n",
    "        print(ch, \": \", q, width, t0)\n",
    "        \"\"\"\n",
    "        if width < 1000: # Separate S1 from S2\n",
    "            if s1[ch] == 0:\n",
    "                s1[ch] = -q\n",
    "            else:\n",
    "                s2[ch] = s2[ch] - q # Sum all the S2\n",
    "        \"\"\""
   ]
  },
  {
   "cell_type": "code",
   "execution_count": 4,
   "metadata": {},
   "outputs": [],
   "source": [
    "# A waveform reader function\n",
    "def Waveform(eventnr):\n",
    "    event = NG.get_single_event(eventnr)\n",
    "                                \n",
    "    #The variables that check if a channel is the minimum channel\n",
    "    adcmin = 16382\n",
    "    minchannel = 0\n",
    "    \n",
    "    #A list that holds all the channels with significant pulses \n",
    "    channellist = []\n",
    "    \n",
    "    #Create the datapoint arrays\n",
    "    n = 350000  \n",
    "    ts = np.ones((n_channels, n), dtype=np.int16)\n",
    "    ts = ts * 16382 \n",
    "    t = np.linspace(0, n, n) \n",
    "    \n",
    "    #Loop over all pulses in the event\n",
    "    for p in event.pulses:\n",
    "        ch = p.channel\n",
    "        i = np.zeros(n_channels, dtype = int)\n",
    "        #print(p.channel, \": \", p.left, p.right-p.left)\n",
    "        for adc in p.raw_data:\n",
    "            \n",
    "            #Add the ADC value to the appropriate channel array\n",
    "            ts[ch][p.left + i[ch]] = adc\n",
    "            i[ch] = i[ch] + 1\n",
    "            \n",
    "            #Append all significant main channels to the list\n",
    "            if adc < 15000 and ch not in channellist and ch in det_ch['tpc']:\n",
    "                channellist.append(ch)\n",
    "                \n",
    "            #Check which channel is the minimum channel\n",
    "            if adc < adcmin:\n",
    "                adcmin = adc\n",
    "                minchannel = ch\n",
    "                \n",
    "    #Sort for convenience\n",
    "    channellist.sort()\n",
    "    return t, ts, channellist, minchannel"
   ]
  },
  {
   "cell_type": "code",
   "execution_count": 6,
   "metadata": {},
   "outputs": [
    {
     "name": "stdout",
     "output_type": "stream",
     "text": [
      "127 :  -81142.8431373 464 122313\n",
      "204 :  -66828.3529412 503 122340\n",
      "181 :  -100739.25 450 122333\n",
      "159 :  -14522.0392157 457 122307\n",
      "146 :  -47998.0 515 122323\n",
      "215 :  -145766.605769 405 122337\n",
      "151 :  -40883.0 659 122353\n",
      "96 :  -9689.0 290 122364\n",
      "191 :  -10345.2254902 461 122406\n",
      "180 :  -189448.0 454 122305\n",
      "171 :  -19048.8 514 122355\n",
      "177 :  -15937.3529412 333 122360\n",
      "182 :  -18492.9607843 424 122354\n",
      "169 :  -104677.586538 374 122331\n",
      "147 :  -115624.769231 462 122313\n",
      "238 :  -37470.5294118 385 122318\n",
      "136 :  -33061.4615385 483 122333\n",
      "186 :  -37851.3333333 556 122323\n",
      "229 :  -64714.2307692 483 122334\n",
      "138 :  -75614.5245902 393 122304\n",
      "223 :  -44187.8823529 459 122320\n",
      "90 :  -16271.1764706 449 122362\n",
      "176 :  -7104.85294118 433 122365\n",
      "218 :  -51630.0098039 353 122344\n",
      "242 :  -14430.6923077 392 122375\n",
      "212 :  -23910.5 461 122300\n",
      "175 :  -89600.5288462 448 122329\n",
      "221 :  -43492.1442308 400 122327\n",
      "241 :  -22459.0 433 122317\n",
      "51 :  -1652.0 232 122493\n",
      "254 :  -6626.0 68 100057\n",
      "0 :  -943938.361111 1180 122244\n",
      "37 :  -2250897.2549 1197 122209\n",
      "36 :  -844676.558824 1041 122236\n",
      "66 :  -364032.076923 1926 122291\n",
      "39 :  -239854.711538 757 122287\n",
      "38 :  -1570275.32353 1224 122209\n",
      "68 :  -512003.153846 527 122256\n",
      "67 :  -489568.366071 840 122279\n",
      "3 :  -306633.473684 661 122287\n",
      "35 :  -359545.803922 491 122277\n",
      "4 :  -142454.653846 464 122324\n",
      "254 :  -456606.0 396 122277\n"
     ]
    },
    {
     "data": {
      "text/plain": [
       "<matplotlib.legend.Legend at 0x7f8d70c8b278>"
      ]
     },
     "execution_count": 6,
     "metadata": {},
     "output_type": "execute_result"
    },
    {
     "data": {
      "image/png": "[encoded data removed]",
      "text/plain": [
       "<matplotlib.figure.Figure at 0x7f8d9312d160>"
      ]
     },
     "metadata": {},
     "output_type": "display_data"
    }
   ],
   "source": [
    "%matplotlib inline\n",
    "event = NG.get_single_event(5)\n",
    "\n",
    "t, ts, channellist, minchannel = Waveform(5)\n",
    "\n",
    "figs, ax = plt.subplots(figsize = (10.,5.))\n",
    "ax.plot(t, ts[254], label='Channel 254')\n",
    "#ax[1].plot(t, ts[1], label='Bottom PMT', color='orange')\n",
    "ax.set_ylabel(\"ADC\")\n",
    "#ax[1].set_ylabel(\"ADC\")\n",
    "ax.set_xlabel(\"time [sample]\")\n",
    "ax.set_title('Event ' + str(event.event_number))\n",
    "\n",
    "\n",
    "for p in event.pulses:\n",
    "    (ch, q, width, t0) = process_waveform(p)\n",
    "    if q < 0:\n",
    "        print(ch, \": \", q, width, t0)\n",
    "        ax.add_patch(patches.Rectangle((p.left-1000, 0), width, 10000, color='grey', alpha=0.2))\n",
    "\n",
    "plt.legend()"
   ]
  },
  {
   "cell_type": "code",
   "execution_count": null,
   "metadata": {},
   "outputs": [],
   "source": []
  }
 ],
 "metadata": {
  "kernelspec": {
   "display_name": "Python 3",
   "language": "python",
   "name": "python3"
  },
  "language_info": {
   "codemirror_mode": {
    "name": "ipython",
    "version": 3
   },
   "file_extension": ".py",
   "mimetype": "text/x-python",
   "name": "python",
   "nbconvert_exporter": "python",
   "pygments_lexer": "ipython3",
   "version": "3.6.9"
  }
 },
 "nbformat": 4,
 "nbformat_minor": 2
}
