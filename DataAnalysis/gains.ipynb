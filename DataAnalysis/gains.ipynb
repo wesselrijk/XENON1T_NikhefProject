{
 "cells": [
  {
   "cell_type": "markdown",
   "metadata": {},
   "source": [
    "# Gains (PMTs)\n",
    "\n",
    "(author: B.Paetsch, date: 22.06.2020)\n",
    "\n",
    "We need to take the gain of each PMT into account when looking for the PMT that gave the strongest signal for one event (important for the x-y-position reconstruction). Therefore the waveform reader was adjusted. Each adc value is now scaled by a factor that indicates the contirbution of this PMT to the total signal. The scaling factor is gained by the listed PMT gain in the XENON1T.ini file and the maximal gain (PMT 126 with 4911399 p.e./electron). "
   ]
  },
  {
   "cell_type": "code",
   "execution_count": 15,
   "metadata": {},
   "outputs": [],
   "source": [
    "import Zip\n",
    "import numpy as np\n",
    "import matplotlib as mpl\n",
    "import matplotlib.pyplot as plt\n",
    "import matplotlib.patches as patches\n",
    "import time\n",
    "import math\n",
    "\n",
    "# Channels in the detector\n",
    "det_ch = { 'tpc': list(range(0, 247+1)), 'veto': list(range(248, 253+1)), \n",
    "          'sum_wv': [254], 'busy_on': [255], 'busy_off': [256],\n",
    "          'hev_on': [257], 'hev_off': [258], 'muon_veto_trigger': [259], } \n",
    "n_channels = 260\n",
    "\n",
    "# for reading the ini file\n",
    "from configparser import ConfigParser, ExtendedInterpolation\n",
    "config = ConfigParser(inline_comment_prefixes='#', interpolation=ExtendedInterpolation(), strict=True)\n",
    "config.optionsxform = str\n",
    "config.read('xenon1t.ini')\n",
    "\n",
    "# Initial parameters\n",
    "baseline_ = 16382. * np.ones(n_channels)\n",
    "std_ = 2.3 * np.ones(n_channels)\n",
    "\n",
    "# The data files\n",
    "NG = Zip.ReadZipped(\"/data/nikhefproject/data/xenon1t/NG\") # Neutron data\n",
    "Rn220 = Zip.ReadZipped(\"/data/nikhefproject/data/xenon1t/Rn220\") # Rn-220 data"
   ]
  },
  {
   "cell_type": "code",
   "execution_count": 2,
   "metadata": {},
   "outputs": [
    {
     "data": {
      "image/png": "[encoded data removed]",
      "text/plain": [
       "<matplotlib.figure.Figure at 0x7fe8d9fc0c50>"
      ]
     },
     "metadata": {},
     "output_type": "display_data"
    }
   ],
   "source": [
    "# plotting the gains\n",
    "gain = eval(config['DEFAULT']['gains'])\n",
    "\n",
    "plt.hist(gain, bins = 100) # bins=(100,100), range=((-100, 100),(0, 40000000)), norm=mpl.colors.LogNorm())\n",
    "plt.xlabel(\"gain [p.e./(gamma or electron)]\")\n",
    "fname = 'gainsHistogram.png'\n",
    "plt.savefig(fname, dpi = (200))"
   ]
  },
  {
   "cell_type": "code",
   "execution_count": 3,
   "metadata": {},
   "outputs": [
    {
     "data": {
      "text/plain": [
       "(4911000, 4912000)"
      ]
     },
     "execution_count": 3,
     "metadata": {},
     "output_type": "execute_result"
    },
    {
     "data": {
      "image/png": "[encoded data removed]",
      "text/plain": [
       "<matplotlib.figure.Figure at 0x7fe8f8101198>"
      ]
     },
     "metadata": {},
     "output_type": "display_data"
    }
   ],
   "source": [
    "#maximal gain\n",
    "plt.hist(gain, bins = 10) # bins=(100,100), range=((-100, 100),(0, 40000000)), norm=mpl.colors.LogNorm())\n",
    "plt.xlabel(\"gain [p.e./(gamma or electron)]\")\n",
    "plt.xlim(4911000,4912000)"
   ]
  },
  {
   "cell_type": "code",
   "execution_count": 18,
   "metadata": {},
   "outputs": [],
   "source": [
    "\"\"\"take gains into account for each adc value\"\"\"\n",
    "\"\"\"only look at top PMTs (for position reconstruction)\"\"\"\n",
    "\n",
    "# A waveform reader function\n",
    "def Waveform(raw,eventnr,counter):\n",
    "    event = raw.get_single_event(eventnr)\n",
    "    ch_top = eval(config['DEFAULT']['channels_top'])\n",
    "                                \n",
    "    #The variables that check if a channel is the minimum channel\n",
    "    adcmin = 16382\n",
    "    minchannel = 0\n",
    "    \n",
    "    #A list that holds all the channels with significant pulses \n",
    "    channellist = []\n",
    "    \n",
    "    #Create the datapoint arrays\n",
    "    n = 350000  \n",
    "    ts = np.ones((n_channels, n), dtype=np.int16)\n",
    "    ts = ts * 16382 \n",
    "    t = np.linspace(0, n, n) \n",
    "    \n",
    "    #Loop over all pulses in the event\n",
    "    for p in event.pulses:\n",
    "        ch = p.channel\n",
    "        if ch in ch_top: #<128: #only top PMTs\n",
    "            i = np.zeros(n_channels, dtype = int)\n",
    "            #print(p.channel, \": \", p.left, p.right-p.left)\n",
    "            for adc in p.raw_data:\n",
    "                try:\n",
    "                #Add the ADC value to the appropriate channel array\n",
    "                    ts[ch][p.left + i[ch]] = adc\n",
    "                    #print(\"adc: \", adc)\n",
    "                    if gain[ch]!=0:\n",
    "                        adc_corrected = 16382 - (16382 - adc)/gain[ch]*4911399 #corrected by relative gain\n",
    "                        #print(\"%: \", gain[ch]/4800000)\n",
    "                    else:\n",
    "                        adc_corrected = np.inf #if we put 0 here, PMTs with 0 gain are taken into account for minchannel\n",
    "                    #print(\"corrected: \",adc_corrected)\n",
    "                    i[ch] = i[ch] + 1\n",
    "                    c = 0 #for the counter\n",
    "                except IndexError:\n",
    "                    if c == 0:\n",
    "                        counter += 1\n",
    "                    pass\n",
    "                #Append all significant main channels to the list\n",
    "                if adc_corrected < 15000 and ch not in channellist and ch in det_ch['tpc']:\n",
    "                    channellist.append(ch)\n",
    "                \n",
    "                #Check which channel is the minimum channel\n",
    "                if adc_corrected < adcmin:\n",
    "                    adcmin = adc_corrected\n",
    "                    minchannel = ch\n",
    "                \n",
    "    #Sort for convenience\n",
    "    channellist.sort()\n",
    "    return t, ts, channellist, minchannel, counter"
   ]
  },
  {
   "cell_type": "code",
   "execution_count": 19,
   "metadata": {},
   "outputs": [
    {
     "data": {
      "text/plain": [
       "(array([  0.00000000e+00,   1.00000286e+00,   2.00000571e+00, ...,\n",
       "          3.49998000e+05,   3.49999000e+05,   3.50000000e+05]),\n",
       " array([[16382, 16382, 16382, ..., 16382, 16382, 16382],\n",
       "        [16382, 16382, 16382, ..., 16382, 16382, 16382],\n",
       "        [16382, 16382, 16382, ..., 16382, 16382, 16382],\n",
       "        ..., \n",
       "        [16382, 16382, 16382, ..., 16382, 16382, 16382],\n",
       "        [16382, 16382, 16382, ..., 16382, 16382, 16382],\n",
       "        [16382, 16382, 16382, ..., 16382, 16382, 16382]], dtype=int16),\n",
       " [21,\n",
       "  31,\n",
       "  36,\n",
       "  38,\n",
       "  58,\n",
       "  61,\n",
       "  64,\n",
       "  66,\n",
       "  78,\n",
       "  85,\n",
       "  87,\n",
       "  89,\n",
       "  90,\n",
       "  106,\n",
       "  107,\n",
       "  108,\n",
       "  109,\n",
       "  114,\n",
       "  115,\n",
       "  119],\n",
       " 107,\n",
       " 0)"
      ]
     },
     "execution_count": 19,
     "metadata": {},
     "output_type": "execute_result"
    }
   ],
   "source": [
    "Waveform(NG,1,0)"
   ]
  },
  {
   "cell_type": "code",
   "execution_count": 20,
   "metadata": {},
   "outputs": [],
   "source": [
    "#compare to the channellist without correction: [64, 106, 107, 108], minchannel: [107]"
   ]
  },
  {
   "cell_type": "code",
   "execution_count": null,
   "metadata": {},
   "outputs": [],
   "source": []
  }
 ],
 "metadata": {
  "kernelspec": {
   "display_name": "Python 3",
   "language": "python",
   "name": "python3"
  },
  "language_info": {
   "codemirror_mode": {
    "name": "ipython",
    "version": 3
   },
   "file_extension": ".py",
   "mimetype": "text/x-python",
   "name": "python",
   "nbconvert_exporter": "python",
   "pygments_lexer": "ipython3",
   "version": "3.6.9"
  }
 },
 "nbformat": 4,
 "nbformat_minor": 2
}
