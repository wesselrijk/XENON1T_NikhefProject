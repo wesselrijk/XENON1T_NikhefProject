{
 "cells": [
  {
   "cell_type": "markdown",
   "metadata": {},
   "source": [
    "# Position Reconstruction\n",
    "(author: B.Paetsch, updated: 23.06.2020)\n",
    "\n",
    "New: position function, exception handling in Waveform function, gain scaling factor in Waveform function\n",
    "\n",
    "Idea position reconstruction: The z-position is calculated with the product of the drift velocity (1.44 mm/microsec) and the time difference between the prompt S1 and delayed S2 signal (drift time). We only look at events that first of all have a valid pulse found by the Peaks-function (Joey). Then we create a s1s2-list with all pulses divided into S1 and S2 pulses (this happens in the Record.ipynb notebook of Zhuoran). Only events where we have both a S1 and a S2 peak are added to our s1s2-list. The position-function then calls the Waveform-reader (Joey), which creates a list of the channels that contributed most to the signals in one event and additionally determines the channel with the largest contribution (minchannel: lowest adc value). Thereby we scale each adc value with the according relative gain of this PMT. For the x- and y-position, the position of the PMT in minchannel (largest peak) is taken (only top PMTs).\n",
    "\n",
    "Exception handling: For those events which have a waveform size larger than 350000 ns (large scintillation signal ), an exception handling is added to the Waveform-function, which skipps these kind of events and counts them. One example of those events is event number 23 in NG. In notebook 'ample_size.ipynb' can be found more information on these kind of events."
   ]
  },
  {
   "cell_type": "code",
   "execution_count": 20,
   "metadata": {},
   "outputs": [],
   "source": [
    "import Zip\n",
    "import numpy as np\n",
    "import matplotlib as mpl\n",
    "import matplotlib.pyplot as plt\n",
    "import matplotlib.patches as patches\n",
    "import time, sys, pickle, math\n",
    "from IPython.display import clear_output\n",
    "\n",
    "# Channels in the detector\n",
    "det_ch = { 'tpc': list(range(0, 247+1)), 'veto': list(range(248, 253+1)), \n",
    "          'sum_wv': [254], 'busy_on': [255], 'busy_off': [256],\n",
    "          'hev_on': [257], 'hev_off': [258], 'muon_veto_trigger': [259], } \n",
    "n_channels = 260\n",
    "\n",
    "# for reading the ini file\n",
    "from configparser import ConfigParser, ExtendedInterpolation\n",
    "config = ConfigParser(inline_comment_prefixes='#', interpolation=ExtendedInterpolation(), strict=True)\n",
    "config.optionsxform = str\n",
    "config.read('xenon1t.ini')\n",
    "\n",
    "# Initial parameters\n",
    "baseline_ = 16384. * np.ones(n_channels)\n",
    "std_ = 2.3 * np.ones(n_channels)\n",
    "\n",
    "# The data files\n",
    "NG = Zip.ReadZipped(\"/data/nikhefproject/data/xenon1t/NG\") # Neutron data\n",
    "Rn220 = Zip.ReadZipped(\"/data/nikhefproject/data/xenon1t/Rn220\") # Rn-220 data"
   ]
  },
  {
   "cell_type": "code",
   "execution_count": 21,
   "metadata": {},
   "outputs": [],
   "source": [
    "#progress bar for running code\n",
    "def update_progress(progress):\n",
    "    bar_length = 20\n",
    "    if isinstance(progress, int):\n",
    "        progress = float(progress)\n",
    "    if not isinstance(progress, float):\n",
    "        progress = 0\n",
    "    if progress < 0:\n",
    "        progress = 0\n",
    "    if progress >= 1:\n",
    "        progress = 1\n",
    "\n",
    "    block = int(round(bar_length * progress))\n",
    "\n",
    "    clear_output(wait = True)\n",
    "    text = \"Progress: [{0}] {1:.1f}%\".format( \"#\" * block + \"-\" * (bar_length - block), progress * 100)\n",
    "    print(text)"
   ]
  },
  {
   "cell_type": "code",
   "execution_count": 22,
   "metadata": {},
   "outputs": [],
   "source": [
    "\"\"\"take gains into account for each adc value\"\"\"\n",
    "\"\"\"only look at top PMTs (for position reconstruction)\"\"\"\n",
    "\n",
    "# A waveform reader function\n",
    "def Waveform(raw,eventnr):\n",
    "    event = raw.get_single_event(eventnr)\n",
    "    ch_top = eval(config['DEFAULT']['channels_top'])\n",
    "    gain = eval(config['DEFAULT']['gains'])\n",
    "                                \n",
    "    #The variables that check if a channel is the minimum channel\n",
    "    adcmin = 16382\n",
    "    minchannel = 0\n",
    "    \n",
    "    #A list that holds all the channels with significant pulses \n",
    "    channellist = []\n",
    "    \n",
    "    #Create the datapoint arrays\n",
    "    n = 350000  \n",
    "    ts = np.ones((n_channels, n), dtype=np.int16)\n",
    "    ts = ts * 16382 \n",
    "    t = np.linspace(0, n, n) \n",
    "    counter = False\n",
    "    \n",
    "    #Loop over all pulses in the event\n",
    "    for p in event.pulses:\n",
    "        ch = p.channel\n",
    "        if ch in ch_top:  #only top PMTs\n",
    "            i = np.zeros(n_channels, dtype = int)\n",
    "            for adc in p.raw_data:\n",
    "                try:\n",
    "                #Add the ADC value to the appropriate channel array\n",
    "                    ts[ch][p.left + i[ch]] = adc\n",
    "                    #print(\"adc: \", adc)\n",
    "                    if gain[ch]!=0:\n",
    "                        adc_corrected = 16382 - (16382 - adc)/gain[ch]*4911399 #corrected by relative gain\n",
    "                        #print(\"%: \", gain[ch]/4800000)\n",
    "                    else:\n",
    "                        adc_corrected = np.inf #if we put 0 here, PMTs with 0 gain are taken into account for minchannel\n",
    "                    #print(\"corrected: \",adc_corrected)\n",
    "                    i[ch] = i[ch] + 1\n",
    "                except IndexError:\n",
    "                        counter = True\n",
    "                        \n",
    "                #Append all significant main channels to the list\n",
    "                if adc_corrected < 15000 and ch not in channellist and ch in det_ch['tpc']:\n",
    "                    channellist.append(ch)\n",
    "                \n",
    "                #Check which channel is the minimum channel\n",
    "                if adc_corrected < adcmin:\n",
    "                    adcmin = adc_corrected\n",
    "                    minchannel = ch\n",
    "                \n",
    "    #Sort for convenience\n",
    "    channellist.sort()\n",
    "    return t, ts, channellist, minchannel, counter"
   ]
  },
  {
   "cell_type": "code",
   "execution_count": 23,
   "metadata": {},
   "outputs": [],
   "source": [
    "#from Joey Staa\n",
    "def Peaks (pulse, printall):\n",
    "    \n",
    "    q = 0\n",
    "    left_t, right_t = 0, 0\n",
    "    baseline = 16382.\n",
    "    std = 2.3\n",
    "    ch = pulse.channel\n",
    "    wave = pulse.raw_data\n",
    "    \n",
    "    # The index for the minimum\n",
    "    minindex = len(wave)\n",
    "    \n",
    "    # Variables for the average, the ratio and the slope\n",
    "    avfound = 0\n",
    "    samplelist = [wave[0]]\n",
    "    ratio = 1\n",
    "    slope = 0\n",
    "    sw = 0\n",
    "\n",
    "    s = np.std(wave)\n",
    "    delta = baseline - np.min(wave)\n",
    "    if min(s, delta) > 5*std:\n",
    "        for samples in enumerate(wave):\n",
    "            base_sub = samples[1] - baseline\n",
    "            if abs(base_sub) > 5*std:\n",
    "                q = q + base_sub\n",
    "            \n",
    "            # Compute the average of the previous samples\n",
    "            av = np.average(samplelist)\n",
    "            \n",
    "            # left_t is assigned when a significant deviation from the average is recorded\n",
    "            if abs(samples[1] - av) > 20 and left_t == 0:\n",
    "                left_t = samples[0]\n",
    "                \n",
    "                # The sample value at left_t is kept for the slope calculation\n",
    "                leftsample = samplelist[-1]\n",
    "                if printall:\n",
    "                    print(\"left_t here\")\n",
    "                avfound = av\n",
    "             \n",
    "            # Find the index for the minimum\n",
    "            if samples[1] == np.min(wave):\n",
    "                minindex = samples[0]\n",
    "\n",
    "            # right_t is assigned in a similar way as left_t\n",
    "            if abs(samples[1] - avfound) < 20 and samples[0] > minindex and right_t == 0: \n",
    "                right_t = samples[0]\n",
    "                if printall:\n",
    "                    print(\"right_t here\")\n",
    "                \n",
    "            # Add the current sample to the sample list\n",
    "            samplelist.append(samples[1])\n",
    "            \n",
    "            # A printing section in case the raw data needs to be analysed\n",
    "            if printall:\n",
    "                print(samples)\n",
    "                print(\"Average:\", av)\n",
    "                if left_t == 0:\n",
    "                    print(\"Average difference:\", abs(samples[1] - av))\n",
    "                else:\n",
    "                    print(\"Average difference:\", abs(samples[1] - avfound))\n",
    "                print()\n",
    "        \n",
    "        # Calculate the ratio and the slope\n",
    "        ratio = np.min(wave)/int(avfound)\n",
    "        slope = (np.min(wave) - leftsample)/(minindex - left_t)\n",
    "    else:\n",
    "        baseline = np.average(wave)\n",
    "        std = s\n",
    "    width = right_t - left_t\n",
    "    if width != 0:\n",
    "        sw = slope/width\n",
    "        if -q/width < 3*std or ratio >= 0.99:\n",
    "            q = 0\n",
    "    return (ch, q, width, pulse.left+left_t, sw)"
   ]
  },
  {
   "cell_type": "code",
   "execution_count": 24,
   "metadata": {},
   "outputs": [],
   "source": [
    "#getting the already classified S1 and S2 signals stored in a list (Zhuoran Feng)\n",
    "#Rn_data.p: 10000 events\n",
    "with open ('Rn220_data_new.p','rb') as fp:\n",
    "    data = pickle.load(fp)"
   ]
  },
  {
   "cell_type": "code",
   "execution_count": 25,
   "metadata": {},
   "outputs": [
    {
     "name": "stdout",
     "output_type": "stream",
     "text": [
      "{'event': 1, 's1': 63414.0, 's2': 619586.0, 's1_position': 100055, 's2_position': 134987}\n",
      "5921\n",
      "1\n"
     ]
    }
   ],
   "source": [
    "#checking whether it works\n",
    "print(data[0])\n",
    "print(len(data))\n",
    "print(data[0]['event'])"
   ]
  },
  {
   "cell_type": "code",
   "execution_count": 33,
   "metadata": {},
   "outputs": [],
   "source": [
    "#you need the Waveform reader, Peaks-function and the classified S1 and S2 signal list for running position-fct.\n",
    "def position(raw,data):\n",
    "    \"\"\" Finding the x,y and z position for an event, and storing the coordinates in a list.\n",
    "    Only channel 254 is used.\"\"\"\n",
    "    \n",
    "    position_list = []\n",
    "    s2fors1 = 0\n",
    "    c = 0\n",
    "    z = 0\n",
    "    drift_velocity = 1.44 # mm/us, see Jelle p.78 or 1708.07051\n",
    "    length_data = len(data)\n",
    "    \n",
    "    for event in data:\n",
    "        if event['s1_position']<event['s2_position']:\n",
    "            #z-coordinate\n",
    "            drift = 1e-2*(event['s2_position']-event['s1_position'])\n",
    "            z = drift * drift_velocity #[mm]\n",
    "    \n",
    "    #x-,y-coordinate (we take the position of the minchannel PMT)\n",
    "            (t, ts, channellist, minchannel, counter) = Waveform(raw,event['event'])\n",
    "            if counter == True:\n",
    "                c += 1\n",
    "            pmt = eval(config['DEFAULT']['pmts'])\n",
    "            x = pmt[minchannel]['position']['x']\n",
    "            y = pmt[minchannel]['position']['y']\n",
    "        \n",
    "            entry = { 'eventnumber': event['event'], 'x': x, 'y': y, \n",
    "                     'z': z }\n",
    "            position_list.append(entry)\n",
    "            length = len(position_list)\n",
    "        else:\n",
    "            s2fors1 += 1\n",
    "        \n",
    "        if (length/length_data)%0.1==0: #every 10% update the progress bar\n",
    "            update_progress(length/length_data) \n",
    "        #if length==20: \n",
    "        #    break\n",
    "    print(\"S2 signal before S1 signal: \", s2fors1)        \n",
    "    return position_list, c #c: counter, how many events we skipped in Waveform-fct. due to a size>350000 "
   ]
  },
  {
   "cell_type": "code",
   "execution_count": 35,
   "metadata": {},
   "outputs": [
    {
     "name": "stdout",
     "output_type": "stream",
     "text": [
      "S2 signal before S1 signal:  106\n",
      "position_list execution runtime:  25768.82324385643\n"
     ]
    }
   ],
   "source": [
    "#create the position_list\n",
    "start_time = time.time()\n",
    "\n",
    "position_list, counter = position(Rn220,data)\n",
    "#position_list, counter = position(NG,data)\n",
    "\n",
    "print(\"position_list execution runtime: \", time.time()-start_time) #seconds"
   ]
  },
  {
   "cell_type": "code",
   "execution_count": 36,
   "metadata": {},
   "outputs": [
    {
     "name": "stdout",
     "output_type": "stream",
     "text": [
      "997\n",
      "5815\n",
      "{'eventnumber': 1, 'x': 21.64940164184732, 'y': 33.33715507583061, 'z': 503.02079999999995}\n"
     ]
    }
   ],
   "source": [
    "print(counter)\n",
    "\"\"\"NG: event 23 has a length of 350000 + 185342 = 535342 \n",
    "For more information on the waveforms that are broader than 350000 and are skipped in the x-y-position \n",
    "determination, have a look at the 'ample_size.ipynb' notebook. \"\"\"\n",
    "\n",
    "print(len(position_list))\n",
    "print(position_list[0])"
   ]
  },
  {
   "cell_type": "code",
   "execution_count": 37,
   "metadata": {},
   "outputs": [
    {
     "name": "stdout",
     "output_type": "stream",
     "text": [
      "503.02079999999995\n"
     ]
    }
   ],
   "source": [
    "print(position_list[0]['z'])"
   ]
  },
  {
   "cell_type": "code",
   "execution_count": 45,
   "metadata": {},
   "outputs": [
    {
     "data": {
      "image/png": "[encoded data removed]",
      "text/plain": [
       "<matplotlib.figure.Figure at 0x7f21c289de48>"
      ]
     },
     "metadata": {},
     "output_type": "display_data"
    }
   ],
   "source": [
    "#plotting the drift time\n",
    "s1 = []\n",
    "s2 = []\n",
    "drift = []\n",
    "for event in data:\n",
    "     if event['s1_position']<event['s2_position']: \n",
    "        drift.append(1e-2*(event['s2_position']-event['s1_position']))\n",
    "        s1.append(event['s1'])\n",
    "        s2.append(event['s2'])\n",
    "fig, ax = plt.subplots()\n",
    "ax.hist2d(drift,s2, bins=(100,100), range=((-50,1200),(0,1.2*1e7)), norm=mpl.colors.LogNorm())\n",
    "ax.set_xlabel(\"drift[us]\")\n",
    "ax.set_ylabel(\"S2\")\n",
    "fname = 'Rn_drift10000.png'\n",
    "fig.savefig(fname, dpi = (200))"
   ]
  },
  {
   "cell_type": "code",
   "execution_count": 39,
   "metadata": {},
   "outputs": [
    {
     "name": "stdout",
     "output_type": "stream",
     "text": [
      "5815\n",
      "5815\n"
     ]
    }
   ],
   "source": [
    "#plotting the x-, y- and z-coordinate\n",
    "x = np.array([])\n",
    "y = np.array([])\n",
    "z = np.array([])\n",
    "for position in position_list:\n",
    "    #print(position)\n",
    "    x = np.append(x,position['x'])\n",
    "    y = np.append(y,position['y'])\n",
    "    z = np.append(z,position['z'])\n",
    "print(len(x))\n",
    "print(len(s2))"
   ]
  },
  {
   "cell_type": "code",
   "execution_count": 48,
   "metadata": {},
   "outputs": [
    {
     "data": {
      "image/png": "[encoded data removed]",
      "text/plain": [
       "<matplotlib.figure.Figure at 0x7f21c901d5c0>"
      ]
     },
     "metadata": {},
     "output_type": "display_data"
    }
   ],
   "source": [
    "fig, ax = plt.subplots(2, 1, sharex='col')\n",
    "ax[0].hist2d(x,s2, bins=(100,100), norm=mpl.colors.LogNorm())\n",
    "ax[1].hist2d(y,s2, bins=(100,100), norm=mpl.colors.LogNorm())\n",
    "ax[0].set_xlabel(\"x[cm]\")\n",
    "ax[1].set_xlabel(\"y[cm]\")\n",
    "ax[0].set_ylabel(\"S2\")\n",
    "ax[1].set_ylabel(\"S2\")\n",
    "ax[0].set_title(\"Rn x- and y- position\")\n",
    "fname = 'Rn_x-position10000.png'\n",
    "fig.savefig(fname, dpi = (200))"
   ]
  },
  {
   "cell_type": "code",
   "execution_count": 44,
   "metadata": {},
   "outputs": [
    {
     "data": {
      "image/png": "[encoded data removed]",
      "text/plain": [
       "<matplotlib.figure.Figure at 0x7f21d4501438>"
      ]
     },
     "metadata": {},
     "output_type": "display_data"
    }
   ],
   "source": [
    "fig, ax = plt.subplots(3, 1, sharex='col')\n",
    "ax[0].hist2d(x,s2, bins=(100,100), range=((-100, 100),(0, 40000000)), norm=mpl.colors.LogNorm())\n",
    "ax[1].hist2d(y,s2, bins=(100,100), range=((-100, 100),(0, 40000000)), norm=mpl.colors.LogNorm())\n",
    "ax[2].hist2d(z,s2, bins=(100,100), range=((-100, 1200),(0, 40000000)), norm=mpl.colors.LogNorm())\n",
    "ax[0].set_xlabel(\"x[cm]\")\n",
    "ax[1].set_xlabel(\"y[cm]\")\n",
    "ax[2].set_xlabel(\"z[mm]\")\n",
    "ax[0].set_ylabel(\"S2\")\n",
    "ax[1].set_ylabel(\"S2\")\n",
    "ax[2].set_ylabel(\"S2\")\n",
    "fname = 'Rn_Position_zoom10000.png'\n",
    "fig.savefig(fname, dpi = (200))"
   ]
  },
  {
   "cell_type": "code",
   "execution_count": 49,
   "metadata": {},
   "outputs": [
    {
     "data": {
      "image/png": "[encoded data removed]",
      "text/plain": [
       "<matplotlib.figure.Figure at 0x7f21c3929c88>"
      ]
     },
     "metadata": {},
     "output_type": "display_data"
    }
   ],
   "source": [
    "fig, ax = plt.subplots()\n",
    "ax.hist2d(x,y, bins=(30,30), norm=mpl.colors.LogNorm())\n",
    "ax.set_xlabel(\"x\")\n",
    "ax.set_ylabel(\"y\")\n",
    "ax.set_title(\"Rn hit pattern\")\n",
    "fname = 'Rn_x-y-position10000.png'\n",
    "fig.savefig(fname, dpi = (200))"
   ]
  },
  {
   "cell_type": "code",
   "execution_count": 54,
   "metadata": {},
   "outputs": [
    {
     "data": {
      "image/png": "[encoded data removed]",
      "text/plain": [
       "<matplotlib.figure.Figure at 0x7f21c8ee7748>"
      ]
     },
     "metadata": {},
     "output_type": "display_data"
    }
   ],
   "source": [
    "fig, ax = plt.subplots()\n",
    "ax.hist2d(z,s2, bins=(100,100), range=((-60,1220),(0,1.2*1e7)), norm=mpl.colors.LogNorm())\n",
    "ax.set_xlabel(\"z[mm]\")\n",
    "ax.set_ylabel(\"S2\")\n",
    "ax.set_title(\"Rn z-position\")\n",
    "fname = 'Rn_z-position10000.png'\n",
    "fig.savefig(fname, dpi = (200))"
   ]
  }
 ],
 "metadata": {
  "kernelspec": {
   "display_name": "Python 3",
   "language": "python",
   "name": "python3"
  },
  "language_info": {
   "codemirror_mode": {
    "name": "ipython",
    "version": 3
   },
   "file_extension": ".py",
   "mimetype": "text/x-python",
   "name": "python",
   "nbconvert_exporter": "python",
   "pygments_lexer": "ipython3",
   "version": "3.6.9"
  }
 },
 "nbformat": 4,
 "nbformat_minor": 2
}
