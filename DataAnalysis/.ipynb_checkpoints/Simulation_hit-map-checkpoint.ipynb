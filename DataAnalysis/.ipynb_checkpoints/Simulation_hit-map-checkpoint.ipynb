{
 "cells": [
  {
   "cell_type": "code",
   "execution_count": 1,
   "metadata": {},
   "outputs": [
    {
     "name": "stdout",
     "output_type": "stream",
     "text": [
      "[ 59 246 130 174  57 148 174 182 181 208 218  80 174 247 141  85 203 189\n",
      " 182 166 167 206 170 157 205 193 131  38 183 198 234 241 245 243 145 219\n",
      " 230 231  99  39 246 246 164 154 243 221 191 180 202 166 133 244 243 214\n",
      " 224 173 243  31 161 161 216 235 127 212 201 169 169 132 159 159]\n"
     ]
    }
   ],
   "source": [
    "import numpy as np\n",
    "\n",
    "data = np.loadtxt(\"data.dat\", dtype=int, delimiter=\";\", usecols=1)\n",
    "print(data)"
   ]
  },
  {
   "cell_type": "code",
   "execution_count": null,
   "metadata": {},
   "outputs": [],
   "source": [
    "import Zip\n",
    "import math\n",
    "import numpy as np\n",
    "import matplotlib as mpl\n",
    "import matplotlib.pyplot as plt\n",
    "import matplotlib.patches as patches\n",
    "import time, sys, pickle, math\n",
    "from IPython.display import clear_output\n",
    "\n",
    "# Channels in the detector\n",
    "det_ch = { 'tpc': list(range(0, 247+1)), 'veto': list(range(248, 253+1)), \n",
    "          'sum_wv': [254], 'busy_on': [255], 'busy_off': [256],\n",
    "          'hev_on': [257], 'hev_off': [258], 'muon_veto_trigger': [259], } \n",
    "n_channels = 260\n",
    "\n",
    "# for reading the ini file\n",
    "from configparser import ConfigParser, ExtendedInterpolation\n",
    "config = ConfigParser(inline_comment_prefixes='#', interpolation=ExtendedInterpolation(), strict=True)\n",
    "config.optionsxform = str\n",
    "config.read('xenon1t.ini')\n",
    "\n",
    "ch_top = eval(config['DEFAULT']['channels_top'])\n",
    "ch_bottom = eval(config['DEFAULT']['channels_bottom'])\n",
    "gain = eval(config['DEFAULT']['gains'])\n",
    "\n",
    "# Initial parameters\n",
    "baseline_ = 16384. * np.ones(n_channels)\n",
    "std_ = 2.3 * np.ones(n_channels)\n",
    "\n",
    "# The data files\n",
    "NG = Zip.ReadZipped(\"/data/nikhefproject/data/xenon1t/NG\") # Neutron data\n",
    "Rn220 = Zip.ReadZipped(\"/data/nikhefproject/data/xenon1t/Rn220\") # Rn-220 data"
   ]
  },
  {
   "cell_type": "code",
   "execution_count": null,
   "metadata": {},
   "outputs": [],
   "source": [
    "#adc_corrected, x, y, for each PMT for one event\n",
    "xhist = []\n",
    "yhist = []\n",
    "adchist = np.array([])\n",
    "for ch in ch_top:\n",
    "#for ch in ch_bottom:\n",
    "    pmt = eval(config['DEFAULT']['pmts'])\n",
    "    x = pmt[ch]['position']['x']\n",
    "    y = pmt[ch]['position']['y']\n",
    "    xhist.append(x)\n",
    "    yhist.append(y)\n",
    "    \n",
    "    if len(list(filter(lambda value:value[\"channel\"]==ch,channellist)))==0:\n",
    "        adchist = np.append(adchist,0)\n",
    "    else:\n",
    "        newlist = list(filter(lambda value:value[\"channel\"]==ch,channellist))[0]\n",
    "        adchist = np.append(adchist,newlist['adc_corrected']) "
   ]
  }
 ],
 "metadata": {
  "kernelspec": {
   "display_name": "Python 3",
   "language": "python",
   "name": "python3"
  },
  "language_info": {
   "codemirror_mode": {
    "name": "ipython",
    "version": 3
   },
   "file_extension": ".py",
   "mimetype": "text/x-python",
   "name": "python",
   "nbconvert_exporter": "python",
   "pygments_lexer": "ipython3",
   "version": "3.6.9"
  }
 },
 "nbformat": 4,
 "nbformat_minor": 2
}
